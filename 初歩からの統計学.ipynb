{
 "cells": [
  {
   "cell_type": "code",
   "execution_count": 37,
   "metadata": {},
   "outputs": [],
   "source": [
    "import pandas as pd\n",
    "import numpy as np\n",
    "%matplotlib inline"
   ]
  },
  {
   "cell_type": "code",
   "execution_count": 16,
   "metadata": {},
   "outputs": [],
   "source": [
    "# スタージェスの公式\n",
    "def calc_sturges(x):\n",
    "    return (np.log10([x])[0]*3.322 + 1)"
   ]
  },
  {
   "cell_type": "code",
   "execution_count": 5,
   "metadata": {},
   "outputs": [
    {
     "data": {
      "text/plain": [
       "5.906996808178718"
      ]
     },
     "execution_count": 5,
     "metadata": {},
     "output_type": "execute_result"
    }
   ],
   "source": [
    "calc_sturges(30)"
   ]
  },
  {
   "cell_type": "code",
   "execution_count": 17,
   "metadata": {},
   "outputs": [
    {
     "data": {
      "text/plain": [
       "6.907018453774464"
      ]
     },
     "execution_count": 17,
     "metadata": {},
     "output_type": "execute_result"
    }
   ],
   "source": [
    "calc_sturges(60)"
   ]
  },
  {
   "cell_type": "code",
   "execution_count": 49,
   "metadata": {},
   "outputs": [
    {
     "data": {
      "text/plain": [
       "9.0"
      ]
     },
     "execution_count": 49,
     "metadata": {},
     "output_type": "execute_result"
    }
   ],
   "source": [
    "(89 - 26)  / 7"
   ]
  },
  {
   "cell_type": "code",
   "execution_count": 34,
   "metadata": {},
   "outputs": [],
   "source": [
    "data_1_2 = pd.read_csv(\"初歩からの統計-演習/1-2.csv\", names=[\"value\", \"a\", \"b\", \"c\", \"d\", \"e\", \"f\"])[[\"value\"]]"
   ]
  },
  {
   "cell_type": "code",
   "execution_count": 35,
   "metadata": {},
   "outputs": [
    {
     "data": {
      "text/plain": [
       "31.5"
      ]
     },
     "execution_count": 35,
     "metadata": {},
     "output_type": "execute_result"
    }
   ],
   "source": [
    "(data_1_2[\"value\"].max() -  data_1_2[\"value\"].min()) / 2 "
   ]
  },
  {
   "cell_type": "code",
   "execution_count": 128,
   "metadata": {},
   "outputs": [
    {
     "data": {
      "text/plain": [
       "[Text(0, 0, '20-30'),\n",
       " Text(0, 0, '30-40'),\n",
       " Text(0, 0, '40-50'),\n",
       " Text(0, 0, '50-60'),\n",
       " Text(0, 0, '60-70'),\n",
       " Text(0, 0, '70-80'),\n",
       " Text(0, 0, '80-90')]"
      ]
     },
     "execution_count": 128,
     "metadata": {},
     "output_type": "execute_result"
    },
    {
     "data": {
      "image/png": "[encoded data removed]",
      "text/plain": [
       "<Figure size 432x288 with 1 Axes>"
      ]
     },
     "metadata": {
      "needs_background": "light"
     },
     "output_type": "display_data"
    }
   ],
   "source": [
    "# ヒストグラム\n",
    "labels = []\n",
    "ticks = []\n",
    "for index in [ i for i  in range(20, 90, 10)]:\n",
    "    labels.append(str(index) + \"-\" + str(index + 10))\n",
    "    ticks.append((index+5))\n",
    "ax = data_1_2[\"value\"].plot.hist(bins=7, range=(20, 90))\n",
    "ax.set_xticks(ticks)\n",
    "ax.set_xticklabels(labels=labels, rotation=90)"
   ]
  },
  {
   "cell_type": "code",
   "execution_count": 142,
   "metadata": {},
   "outputs": [
    {
     "data": {
      "text/plain": [
       "[Text(0, 0, '20'),\n",
       " Text(0, 0, '30'),\n",
       " Text(0, 0, '40'),\n",
       " Text(0, 0, '50'),\n",
       " Text(0, 0, '60'),\n",
       " Text(0, 0, '70'),\n",
       " Text(0, 0, '80'),\n",
       " Text(0, 0, '90')]"
      ]
     },
     "execution_count": 142,
     "metadata": {},
     "output_type": "execute_result"
    },
    {
     "data": {
      "image/png": "[encoded data removed]",
      "text/plain": [
       "<Figure size 432x288 with 2 Axes>"
      ]
     },
     "metadata": {
      "needs_background": "light"
     },
     "output_type": "display_data"
    }
   ],
   "source": [
    "# 度数分布(青)\n",
    "# 累積相対度数(赤)\n",
    "\n",
    "ax = data_1_2.groupby(pd.cut(data_1_2[\"value\"], range(20, 100, 10), right=False)).count().plot()\n",
    "ax = (data_1_2.groupby(pd.cut(data_1_2[\"value\"], range(20, 100, 10), right=False)).count().cumsum()/60).plot(ax=ax.twinx(), color=\"r\")\n",
    "ax.set_xticklabels(labels=[i for i in range(20, 100, 10)])"
   ]
  },
  {
   "cell_type": "code",
   "execution_count": null,
   "metadata": {},
   "outputs": [],
   "source": []
  },
  {
   "cell_type": "code",
   "execution_count": null,
   "metadata": {},
   "outputs": [],
   "source": []
  },
  {
   "cell_type": "code",
   "execution_count": null,
   "metadata": {},
   "outputs": [],
   "source": []
  }
 ],
 "metadata": {
  "kernelspec": {
   "display_name": "Python 3",
   "language": "python",
   "name": "python3"
  },
  "language_info": {
   "codemirror_mode": {
    "name": "ipython",
    "version": 3
   },
   "file_extension": ".py",
   "mimetype": "text/x-python",
   "name": "python",
   "nbconvert_exporter": "python",
   "pygments_lexer": "ipython3",
   "version": "3.7.1"
  }
 },
 "nbformat": 4,
 "nbformat_minor": 2
}
