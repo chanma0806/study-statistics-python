{
 "cells": [
  {
   "cell_type": "code",
   "execution_count": 1,
   "metadata": {},
   "outputs": [],
   "source": [
    "import pandas as pd\n",
    "import numpy as np\n",
    "from matplotlib import pyplot as plt\n",
    "from scipy import stats\n",
    "%matplotlib inline\n",
    "import math\n",
    "from fractions import Fraction\n",
    "from functools import reduce"
   ]
  },
  {
   "cell_type": "code",
   "execution_count": 2,
   "metadata": {},
   "outputs": [],
   "source": [
    "# スタージェスの公式\n",
    "def calc_sturges(x):\n",
    "    return (np.log10([x])[0]*3.322 + 1)\n",
    "\n",
    "def comb(x, n):\n",
    "    return math.factorial(x) / (math.factorial(n) * math.factorial(x-n))\n",
    "\n",
    "def perm(x, n):\n",
    "    return math.factorial(x)/math.factorial(x-n)"
   ]
  },
  {
   "cell_type": "markdown",
   "metadata": {},
   "source": [
    "### 第１章"
   ]
  },
  {
   "cell_type": "code",
   "execution_count": 3,
   "metadata": {},
   "outputs": [
    {
     "data": {
      "text/plain": [
       "5.906996808178718"
      ]
     },
     "execution_count": 3,
     "metadata": {},
     "output_type": "execute_result"
    }
   ],
   "source": [
    "calc_sturges(30)"
   ]
  },
  {
   "cell_type": "code",
   "execution_count": 4,
   "metadata": {},
   "outputs": [
    {
     "data": {
      "text/plain": [
       "6.907018453774464"
      ]
     },
     "execution_count": 4,
     "metadata": {},
     "output_type": "execute_result"
    }
   ],
   "source": [
    "calc_sturges(60)"
   ]
  },
  {
   "cell_type": "code",
   "execution_count": 5,
   "metadata": {},
   "outputs": [
    {
     "data": {
      "text/plain": [
       "9.0"
      ]
     },
     "execution_count": 5,
     "metadata": {},
     "output_type": "execute_result"
    }
   ],
   "source": [
    "(89 - 26)  / 7"
   ]
  },
  {
   "cell_type": "code",
   "execution_count": 6,
   "metadata": {},
   "outputs": [],
   "source": [
    "data_1_2 = pd.read_csv(\"初歩からの統計-演習/1-2.csv\", names=[\"value\", \"a\", \"b\", \"c\", \"d\", \"e\", \"f\"])[[\"value\"]]"
   ]
  },
  {
   "cell_type": "code",
   "execution_count": 7,
   "metadata": {},
   "outputs": [
    {
     "data": {
      "text/plain": [
       "31.5"
      ]
     },
     "execution_count": 7,
     "metadata": {},
     "output_type": "execute_result"
    }
   ],
   "source": [
    "(data_1_2[\"value\"].max() -  data_1_2[\"value\"].min()) / 2 "
   ]
  },
  {
   "cell_type": "code",
   "execution_count": 8,
   "metadata": {},
   "outputs": [
    {
     "data": {
      "text/plain": [
       "[Text(0, 0, '20-30'),\n",
       " Text(0, 0, '30-40'),\n",
       " Text(0, 0, '40-50'),\n",
       " Text(0, 0, '50-60'),\n",
       " Text(0, 0, '60-70'),\n",
       " Text(0, 0, '70-80'),\n",
       " Text(0, 0, '80-90')]"
      ]
     },
     "execution_count": 8,
     "metadata": {},
     "output_type": "execute_result"
    },
    {
     "data": {
      "image/png": "[encoded data removed]",
      "text/plain": [
       "<Figure size 432x288 with 1 Axes>"
      ]
     },
     "metadata": {
      "needs_background": "light"
     },
     "output_type": "display_data"
    }
   ],
   "source": [
    "# ヒストグラム\n",
    "labels = []\n",
    "ticks = []\n",
    "for index in [ i for i  in range(20, 90, 10)]:\n",
    "    labels.append(str(index) + \"-\" + str(index + 10))\n",
    "    ticks.append((index+5))\n",
    "ax = data_1_2[\"value\"].plot.hist(bins=7, range=(20, 90))\n",
    "ax.set_xticks(ticks)\n",
    "ax.set_xticklabels(labels=labels, rotation=90)"
   ]
  },
  {
   "cell_type": "code",
   "execution_count": 9,
   "metadata": {},
   "outputs": [
    {
     "data": {
      "text/plain": [
       "[Text(0, 0, '20'),\n",
       " Text(0, 0, '30'),\n",
       " Text(0, 0, '40'),\n",
       " Text(0, 0, '50'),\n",
       " Text(0, 0, '60'),\n",
       " Text(0, 0, '70'),\n",
       " Text(0, 0, '80'),\n",
       " Text(0, 0, '90')]"
      ]
     },
     "execution_count": 9,
     "metadata": {},
     "output_type": "execute_result"
    },
    {
     "data": {
      "image/png": "[encoded data removed]",
      "text/plain": [
       "<Figure size 432x288 with 2 Axes>"
      ]
     },
     "metadata": {
      "needs_background": "light"
     },
     "output_type": "display_data"
    }
   ],
   "source": [
    "# 度数分布(青)\n",
    "# 累積相対度数(赤)\n",
    "\n",
    "ax = data_1_2.groupby(pd.cut(data_1_2[\"value\"], range(20, 100, 10), right=False)).count().plot()\n",
    "ax = (data_1_2.groupby(pd.cut(data_1_2[\"value\"], range(20, 100, 10), right=False)).count().cumsum()/60).plot(ax=ax.twinx(), color=\"r\")\n",
    "ax.set_xticklabels(labels=[i for i in range(20, 100, 10)])"
   ]
  },
  {
   "cell_type": "code",
   "execution_count": 10,
   "metadata": {},
   "outputs": [],
   "source": [
    "data_1_3 = pd.read_csv(\"初歩からの統計-演習/1-3.csv\", names=[\"value\", \"a\", \"b\", \"c\", \"d\", \"e\", \"f\"])[[\"value\"]]"
   ]
  },
  {
   "cell_type": "code",
   "execution_count": 11,
   "metadata": {},
   "outputs": [
    {
     "data": {
      "text/plain": [
       "7.644"
      ]
     },
     "execution_count": 11,
     "metadata": {},
     "output_type": "execute_result"
    }
   ],
   "source": [
    "# 階級 8\n",
    "\n",
    "calc_sturges(data_1_3.shape[0])"
   ]
  },
  {
   "cell_type": "code",
   "execution_count": 12,
   "metadata": {},
   "outputs": [
    {
     "data": {
      "text/plain": [
       "7.0"
      ]
     },
     "execution_count": 12,
     "metadata": {},
     "output_type": "execute_result"
    }
   ],
   "source": [
    "# 階級幅 10\n",
    "data_1_3[\"value\"] = data_1_3[\"value\"].astype(int)\n",
    "(data_1_3[\"value\"].max() - data_1_3[\"value\"].min()) / 8"
   ]
  },
  {
   "cell_type": "code",
   "execution_count": 13,
   "metadata": {},
   "outputs": [
    {
     "data": {
      "text/html": [
       "<div>\n",
       "<style scoped>\n",
       "    .dataframe tbody tr th:only-of-type {\n",
       "        vertical-align: middle;\n",
       "    }\n",
       "\n",
       "    .dataframe tbody tr th {\n",
       "        vertical-align: top;\n",
       "    }\n",
       "\n",
       "    .dataframe thead th {\n",
       "        text-align: right;\n",
       "    }\n",
       "</style>\n",
       "<table border=\"1\" class=\"dataframe\">\n",
       "  <thead>\n",
       "    <tr style=\"text-align: right;\">\n",
       "      <th></th>\n",
       "      <th>value</th>\n",
       "    </tr>\n",
       "    <tr>\n",
       "      <th>value</th>\n",
       "      <th></th>\n",
       "    </tr>\n",
       "  </thead>\n",
       "  <tbody>\n",
       "    <tr>\n",
       "      <th>[15.0, 22.5)</th>\n",
       "      <td>3</td>\n",
       "    </tr>\n",
       "    <tr>\n",
       "      <th>[22.5, 30.0)</th>\n",
       "      <td>9</td>\n",
       "    </tr>\n",
       "    <tr>\n",
       "      <th>[30.0, 37.5)</th>\n",
       "      <td>18</td>\n",
       "    </tr>\n",
       "    <tr>\n",
       "      <th>[37.5, 45.0)</th>\n",
       "      <td>23</td>\n",
       "    </tr>\n",
       "    <tr>\n",
       "      <th>[45.0, 52.5)</th>\n",
       "      <td>22</td>\n",
       "    </tr>\n",
       "    <tr>\n",
       "      <th>[52.5, 60.0)</th>\n",
       "      <td>14</td>\n",
       "    </tr>\n",
       "    <tr>\n",
       "      <th>[60.0, 67.5)</th>\n",
       "      <td>8</td>\n",
       "    </tr>\n",
       "    <tr>\n",
       "      <th>[67.5, 75.0)</th>\n",
       "      <td>3</td>\n",
       "    </tr>\n",
       "  </tbody>\n",
       "</table>\n",
       "</div>"
      ],
      "text/plain": [
       "              value\n",
       "value              \n",
       "[15.0, 22.5)      3\n",
       "[22.5, 30.0)      9\n",
       "[30.0, 37.5)     18\n",
       "[37.5, 45.0)     23\n",
       "[45.0, 52.5)     22\n",
       "[52.5, 60.0)     14\n",
       "[60.0, 67.5)      8\n",
       "[67.5, 75.0)      3"
      ]
     },
     "execution_count": 13,
     "metadata": {},
     "output_type": "execute_result"
    }
   ],
   "source": [
    "# 度数分布表\n",
    "\n",
    "data_1_3.groupby(pd.cut(data_1_3[\"value\"], np.arange(15, 80, 7.5), right=False)).count()"
   ]
  },
  {
   "cell_type": "code",
   "execution_count": 14,
   "metadata": {},
   "outputs": [
    {
     "data": {
      "text/plain": [
       "[Text(0, 0, '15.0-22.5'),\n",
       " Text(0, 0, '22.5-30.0'),\n",
       " Text(0, 0, '30.0-37.5'),\n",
       " Text(0, 0, '37.5-45.0'),\n",
       " Text(0, 0, '45.0-52.5'),\n",
       " Text(0, 0, '52.5-60.0'),\n",
       " Text(0, 0, '60.0-67.5'),\n",
       " Text(0, 0, '67.5-75.0')]"
      ]
     },
     "execution_count": 14,
     "metadata": {},
     "output_type": "execute_result"
    },
    {
     "data": {
      "image/png": "[encoded data removed]",
      "text/plain": [
       "<Figure size 432x288 with 1 Axes>"
      ]
     },
     "metadata": {
      "needs_background": "light"
     },
     "output_type": "display_data"
    }
   ],
   "source": [
    "# ヒストグラム\n",
    "ax = data_1_3[\"value\"].plot.hist(bins=8, range=(15, 75))\n",
    "ticks = [i for i in np.arange(15+3.75, 76, 7.5)]\n",
    "labels = list(map(lambda x: str(x-3.75)+\"-\"+str(x+3.75) , ticks))\n",
    "ax.set_xticks(ticks)\n",
    "ax.set_xticklabels(labels=labels, rotation=90)"
   ]
  },
  {
   "cell_type": "code",
   "execution_count": 15,
   "metadata": {},
   "outputs": [
    {
     "data": {
      "text/plain": [
       "[Text(0, 0, '15.0'),\n",
       " Text(0, 0, '22.5'),\n",
       " Text(0, 0, '30.0'),\n",
       " Text(0, 0, '37.5'),\n",
       " Text(0, 0, '45.0'),\n",
       " Text(0, 0, '52.5'),\n",
       " Text(0, 0, '60.0'),\n",
       " Text(0, 0, '67.5'),\n",
       " Text(0, 0, '75.0')]"
      ]
     },
     "execution_count": 15,
     "metadata": {},
     "output_type": "execute_result"
    },
    {
     "data": {
      "image/png": "[encoded data removed]",
      "text/plain": [
       "<Figure size 432x288 with 2 Axes>"
      ]
     },
     "metadata": {
      "needs_background": "light"
     },
     "output_type": "display_data"
    }
   ],
   "source": [
    "#度数折れ線(青)\n",
    "#累積相対度数折れ線(赤)\n",
    "\n",
    "ax = data_1_3.groupby(pd.cut(data_1_3[\"value\"], np.arange(15, 80, 7.5), right=False)).count().plot()\n",
    "ax =(data_1_3.groupby(pd.cut(data_1_3[\"value\"], np.arange(15, 80, 7.5), right=False)).count().cumsum()/100).plot(c=\"red\", ax=ax.twinx())\n",
    "ticks = [i for i in np.arange(15, 80, 7.5)]\n",
    "ax.set_xticklabels(labels=ticks)"
   ]
  },
  {
   "cell_type": "markdown",
   "metadata": {},
   "source": [
    "### 第2章"
   ]
  },
  {
   "cell_type": "code",
   "execution_count": 16,
   "metadata": {},
   "outputs": [
    {
     "name": "stdout",
     "output_type": "stream",
     "text": [
      "arr_1\n",
      "mean: 5.0 meadian: 5.0, mode: 5\n",
      "arr_2\n",
      "mean: 5.0 meadian: 4.0, mode: 3\n",
      "arr_3\n",
      "mean: 9.0 meadian: 6.0, mode: 0\n"
     ]
    }
   ],
   "source": [
    "#2-1\n",
    "\n",
    "def show_statistics(arr):\n",
    "    print(f\"mean: {arr.mean()} meadian: {np.median(arr)}, mode: {stats.mode(arr)[0][0]}\")\n",
    "    \n",
    "arr_1 = np.array([5, 6, 1, 7, 5, 2, 6, 5, 8])\n",
    "print(\"arr_1\")\n",
    "show_statistics(arr_1)\n",
    "\n",
    "arr_2 = np.array([9, 3, 7, 2, 3, 9, 8, 1, 3, 5])\n",
    "print(\"arr_2\")\n",
    "show_statistics(arr_2)\n",
    "\n",
    "arr_3 = np.array([6, 10, 1, 8, 46, 4, 7, 0 , 5, 3, 9])\n",
    "print(\"arr_3\")\n",
    "show_statistics(arr_3)"
   ]
  },
  {
   "cell_type": "code",
   "execution_count": 17,
   "metadata": {},
   "outputs": [
    {
     "name": "stdout",
     "output_type": "stream",
     "text": [
      "時給: 908.0円\n"
     ]
    }
   ],
   "source": [
    "#2-2\n",
    "\n",
    "ave = (800*1300 + 900*700 + 1200*500) / (1300 + 700 + 500)\n",
    "print(f\"時給: {ave}円\")"
   ]
  },
  {
   "cell_type": "code",
   "execution_count": 18,
   "metadata": {},
   "outputs": [
    {
     "name": "stdout",
     "output_type": "stream",
     "text": [
      "arr_1:\n",
      "ans: 4.0\n",
      "arr_2:\n",
      "ans: 8.999999999999998\n",
      "arr_3:\n",
      "ans: 10.0\n",
      "arr_4:\n",
      "ans: 8.000000000000002\n",
      "arr_5:\n",
      "ans: 5.999999999999999\n"
     ]
    }
   ],
   "source": [
    "# 2-3\n",
    "def show_pow(arr):\n",
    "    size = arr.shape[0]\n",
    "    ret = math.pow(np.multiply.reduce(arr), (1/size))\n",
    "    print(f\"ans: {ret}\")\n",
    "\n",
    "arr_1 = np.array([2, 8])\n",
    "print(\"arr_1:\")\n",
    "show_pow(arr_1)\n",
    "\n",
    "arr_2 = np.array([3, 9, 27])\n",
    "print(\"arr_2:\")\n",
    "show_pow(arr_2)\n",
    "\n",
    "arr_3 = np.array([4, 5, 20, 25])\n",
    "print(\"arr_3:\")\n",
    "show_pow(arr_3)\n",
    "\n",
    "arr_4 = np.array([2, 4, 8, 16, 32])\n",
    "print(\"arr_4:\")\n",
    "show_pow(arr_4)\n",
    "\n",
    "arr_5 = np.array([2, 3, 4, 9, 12, 18])\n",
    "print(\"arr_5:\")\n",
    "show_pow(arr_5)"
   ]
  },
  {
   "cell_type": "code",
   "execution_count": 19,
   "metadata": {},
   "outputs": [
    {
     "name": "stdout",
     "output_type": "stream",
     "text": [
      "A国人口増加率 0.6000440417290198%\n",
      "B国人口増加率 1.0005539868486402%\n",
      "2020年 A国 2521人, B国 2255人\n",
      "2025年 A国 2598人, B国 2370人\n",
      "2030年 A国 2677人, B国 2491人\n"
     ]
    },
    {
     "data": {
      "text/plain": [
       "2048"
      ]
     },
     "execution_count": 19,
     "metadata": {},
     "output_type": "execute_result"
    }
   ],
   "source": [
    "# 2-4\n",
    "\n",
    "# 2005年人口* (1 + 成長率)^8 = 2013年人口\n",
    "\n",
    "ratio_a = (math.pow(2418/2305, 1/8) - 1)*100\n",
    "print(f\"A国人口増加率 {ratio_a}%\")\n",
    "\n",
    "ratio_b = (math.pow(2103/1942, 1/8) - 1)*100\n",
    "print(f\"B国人口増加率 {ratio_b}%\")\n",
    "\n",
    "# 2020年人口\n",
    "print(f\"2020年 A国 {round((2305* math.pow(1+ratio_a/100, 15)))}人, B国 {round(1942* math.pow(1+ratio_b/100, 15))}人\")\n",
    "\n",
    "# 2025年人口\n",
    "print(f\"2025年 A国 {round((2305* math.pow(1+ratio_a/100, 20)))}人, B国 {round(1942* math.pow(1+ratio_b/100, 20))}人\")\n",
    "\n",
    "# 2030年人口\n",
    "print(f\"2030年 A国 {round((2305* math.pow(1+ratio_a/100, 25)))}人, B国 {round(1942* math.pow(1+ratio_b/100, 25))}人\")\n",
    "\n",
    "#  A国とB国の人口が同水準になる年\n",
    "2005 + round(math.log10(2305/1942) / math.log10((1+ratio_b/100) / (1+ratio_a/100)))"
   ]
  },
  {
   "cell_type": "code",
   "execution_count": 20,
   "metadata": {},
   "outputs": [
    {
     "data": {
      "text/plain": [
       "0.2271584879323918"
      ]
     },
     "execution_count": 20,
     "metadata": {},
     "output_type": "execute_result"
    }
   ],
   "source": [
    "#2-5\n",
    "from functools import reduce\n",
    "def add_one(x):\n",
    "    return x+1\n",
    "\n",
    "ratios = np.array([0.1, 0.2, 0.4])\n",
    "math.pow(reduce((lambda x, y:  x*y) , add_one(ratios)), 1/ratios.shape[0]) - 1"
   ]
  },
  {
   "cell_type": "code",
   "execution_count": 21,
   "metadata": {},
   "outputs": [
    {
     "name": "stdout",
     "output_type": "stream",
     "text": [
      "75.03173720026325\n",
      "56.265865242632\n",
      "42.193446528530046\n"
     ]
    }
   ],
   "source": [
    "# 2-6\n",
    "\n",
    "ratio = 1 - math.pow(30/300, 1/8)\n",
    "\n",
    "# 1年後の減価償却費\n",
    "ans_1 = 300 - 300*(1-ratio)\n",
    "print(ans_1)\n",
    "\n",
    "# 2年後の減価償却費\n",
    "ans_2 = (300 - ans_1) - (300 - ans_1)*(1-ratio)\n",
    "print(ans_2)\n",
    "\n",
    "# 3年後の減価償却費\n",
    "ans_3 = (300 - ans_1 - ans_2) - (300 - ans_1 - ans_2)*(1-ratio)\n",
    "print(ans_3)"
   ]
  },
  {
   "cell_type": "code",
   "execution_count": 22,
   "metadata": {},
   "outputs": [
    {
     "name": "stdout",
     "output_type": "stream",
     "text": [
      "mean:14.0 median: 10.5 mode: 4\n",
      "trim_5% mean: 12.0\n",
      "trim_10% mean: 11.0\n",
      "trim_20% mean: 10.0\n"
     ]
    }
   ],
   "source": [
    "# 2-7\n",
    "\n",
    "data = pd.read_csv(\"初歩からの統計-演習/2-7.csv\")[[\"value\"]]\n",
    "\n",
    "print(f\"mean:{data['value'].mean()} median: {data['value'].median()} mode: {data['value'].mode()[0]}\")\n",
    "\n",
    "print(f\"trim_5% mean: {data['value'].sort_values()[1:19].mean()}\")\n",
    "print(f\"trim_10% mean: {data['value'].sort_values()[2:18].mean()}\")\n",
    "print(f\"trim_20% mean: {data['value'].sort_values()[4:16].mean()}\")"
   ]
  },
  {
   "cell_type": "code",
   "execution_count": 23,
   "metadata": {},
   "outputs": [],
   "source": [
    "text = \"330 150 730 420 1530 300 80 390 940 210 1290 320 120 660 480 270 850 330 240 530 50 790 350 230 640 460 180 1850 310 570\""
   ]
  },
  {
   "cell_type": "code",
   "execution_count": 24,
   "metadata": {},
   "outputs": [
    {
     "name": "stdout",
     "output_type": "stream",
     "text": [
      "mean: 520.0 median: 370.0\n",
      "trim_10% mean: 445.0\n",
      "trim_20% mean: 420.0\n"
     ]
    }
   ],
   "source": [
    "# 2-8\n",
    "data = pd.read_csv(\"初歩からの統計-演習/2-8.csv\")[[\"value\"]]\n",
    "\n",
    "print(f'mean: {data[\"value\"].mean()} median: {data[\"value\"].median()}')\n",
    "      \n",
    "print(f\"trim_10% mean: {data['value'].sort_values()[3:27].mean()}\")\n",
    "print(f\"trim_20% mean: {data['value'].sort_values()[6:24].mean()}\")"
   ]
  },
  {
   "cell_type": "code",
   "execution_count": 25,
   "metadata": {},
   "outputs": [
    {
     "name": "stdout",
     "output_type": "stream",
     "text": [
      "mean: 49.0 median: 44.5\n",
      "trim_5% mean: 48.0\n",
      "trim_10% mean: 47.5\n",
      "trim_20% mean: 46.5\n"
     ]
    }
   ],
   "source": [
    "# 2- 10\n",
    "\n",
    "data = pd.read_csv(\"初歩からの統計-演習/1-2.csv\", names=[\"value\", \"a\", \"b\", \"c\", \"d\", \"e\", \"f\"])[[\"value\"]]\n",
    "\n",
    "print(f'mean: {data[\"value\"].mean()} median: {data[\"value\"].median()}')\n",
    "\n",
    "print(f\"trim_5% mean: {data['value'].sort_values()[3:57].mean()}\")\n",
    "print(f\"trim_10% mean: {data['value'].sort_values()[6:54].mean()}\")\n",
    "print(f\"trim_20% mean: {data['value'].sort_values()[12:48].mean()}\")"
   ]
  },
  {
   "cell_type": "code",
   "execution_count": 26,
   "metadata": {},
   "outputs": [
    {
     "data": {
      "text/html": [
       "<div>\n",
       "<style scoped>\n",
       "    .dataframe tbody tr th:only-of-type {\n",
       "        vertical-align: middle;\n",
       "    }\n",
       "\n",
       "    .dataframe tbody tr th {\n",
       "        vertical-align: top;\n",
       "    }\n",
       "\n",
       "    .dataframe thead th {\n",
       "        text-align: right;\n",
       "    }\n",
       "</style>\n",
       "<table border=\"1\" class=\"dataframe\">\n",
       "  <thead>\n",
       "    <tr style=\"text-align: right;\">\n",
       "      <th></th>\n",
       "      <th>value</th>\n",
       "    </tr>\n",
       "  </thead>\n",
       "  <tbody>\n",
       "    <tr>\n",
       "      <th>1</th>\n",
       "      <td>62.0</td>\n",
       "    </tr>\n",
       "    <tr>\n",
       "      <th>2</th>\n",
       "      <td>58.0</td>\n",
       "    </tr>\n",
       "    <tr>\n",
       "      <th>3</th>\n",
       "      <td>48.0</td>\n",
       "    </tr>\n",
       "    <tr>\n",
       "      <th>4</th>\n",
       "      <td>46.0</td>\n",
       "    </tr>\n",
       "    <tr>\n",
       "      <th>5</th>\n",
       "      <td>30.0</td>\n",
       "    </tr>\n",
       "    <tr>\n",
       "      <th>6</th>\n",
       "      <td>22.0</td>\n",
       "    </tr>\n",
       "    <tr>\n",
       "      <th>7</th>\n",
       "      <td>16.0</td>\n",
       "    </tr>\n",
       "    <tr>\n",
       "      <th>8</th>\n",
       "      <td>14.0</td>\n",
       "    </tr>\n",
       "    <tr>\n",
       "      <th>9</th>\n",
       "      <td>24.0</td>\n",
       "    </tr>\n",
       "    <tr>\n",
       "      <th>10</th>\n",
       "      <td>34.0</td>\n",
       "    </tr>\n",
       "    <tr>\n",
       "      <th>11</th>\n",
       "      <td>58.0</td>\n",
       "    </tr>\n",
       "    <tr>\n",
       "      <th>12</th>\n",
       "      <td>70.0</td>\n",
       "    </tr>\n",
       "    <tr>\n",
       "      <th>13</th>\n",
       "      <td>82.0</td>\n",
       "    </tr>\n",
       "    <tr>\n",
       "      <th>14</th>\n",
       "      <td>86.0</td>\n",
       "    </tr>\n",
       "  </tbody>\n",
       "</table>\n",
       "</div>"
      ],
      "text/plain": [
       "    value\n",
       "1    62.0\n",
       "2    58.0\n",
       "3    48.0\n",
       "4    46.0\n",
       "5    30.0\n",
       "6    22.0\n",
       "7    16.0\n",
       "8    14.0\n",
       "9    24.0\n",
       "10   34.0\n",
       "11   58.0\n",
       "12   70.0\n",
       "13   82.0\n",
       "14   86.0"
      ]
     },
     "metadata": {},
     "output_type": "display_data"
    },
    {
     "data": {
      "text/html": [
       "<div>\n",
       "<style scoped>\n",
       "    .dataframe tbody tr th:only-of-type {\n",
       "        vertical-align: middle;\n",
       "    }\n",
       "\n",
       "    .dataframe tbody tr th {\n",
       "        vertical-align: top;\n",
       "    }\n",
       "\n",
       "    .dataframe thead th {\n",
       "        text-align: right;\n",
       "    }\n",
       "</style>\n",
       "<table border=\"1\" class=\"dataframe\">\n",
       "  <thead>\n",
       "    <tr style=\"text-align: right;\">\n",
       "      <th></th>\n",
       "      <th>value</th>\n",
       "    </tr>\n",
       "  </thead>\n",
       "  <tbody>\n",
       "    <tr>\n",
       "      <th>2</th>\n",
       "      <td>56.4</td>\n",
       "    </tr>\n",
       "    <tr>\n",
       "      <th>3</th>\n",
       "      <td>49.2</td>\n",
       "    </tr>\n",
       "    <tr>\n",
       "      <th>4</th>\n",
       "      <td>40.8</td>\n",
       "    </tr>\n",
       "    <tr>\n",
       "      <th>5</th>\n",
       "      <td>32.4</td>\n",
       "    </tr>\n",
       "    <tr>\n",
       "      <th>6</th>\n",
       "      <td>24.0</td>\n",
       "    </tr>\n",
       "    <tr>\n",
       "      <th>7</th>\n",
       "      <td>20.4</td>\n",
       "    </tr>\n",
       "    <tr>\n",
       "      <th>8</th>\n",
       "      <td>19.2</td>\n",
       "    </tr>\n",
       "    <tr>\n",
       "      <th>9</th>\n",
       "      <td>26.4</td>\n",
       "    </tr>\n",
       "    <tr>\n",
       "      <th>10</th>\n",
       "      <td>42.0</td>\n",
       "    </tr>\n",
       "    <tr>\n",
       "      <th>11</th>\n",
       "      <td>51.6</td>\n",
       "    </tr>\n",
       "    <tr>\n",
       "      <th>12</th>\n",
       "      <td>67.2</td>\n",
       "    </tr>\n",
       "    <tr>\n",
       "      <th>13</th>\n",
       "      <td>79.2</td>\n",
       "    </tr>\n",
       "  </tbody>\n",
       "</table>\n",
       "</div>"
      ],
      "text/plain": [
       "    value\n",
       "2    56.4\n",
       "3    49.2\n",
       "4    40.8\n",
       "5    32.4\n",
       "6    24.0\n",
       "7    20.4\n",
       "8    19.2\n",
       "9    26.4\n",
       "10   42.0\n",
       "11   51.6\n",
       "12   67.2\n",
       "13   79.2"
      ]
     },
     "metadata": {},
     "output_type": "display_data"
    },
    {
     "data": {
      "text/html": [
       "<div>\n",
       "<style scoped>\n",
       "    .dataframe tbody tr th:only-of-type {\n",
       "        vertical-align: middle;\n",
       "    }\n",
       "\n",
       "    .dataframe tbody tr th {\n",
       "        vertical-align: top;\n",
       "    }\n",
       "\n",
       "    .dataframe thead th {\n",
       "        text-align: right;\n",
       "    }\n",
       "</style>\n",
       "<table border=\"1\" class=\"dataframe\">\n",
       "  <thead>\n",
       "    <tr style=\"text-align: right;\">\n",
       "      <th></th>\n",
       "      <th>value</th>\n",
       "    </tr>\n",
       "  </thead>\n",
       "  <tbody>\n",
       "    <tr>\n",
       "      <th>2</th>\n",
       "      <td>57.00</td>\n",
       "    </tr>\n",
       "    <tr>\n",
       "      <th>3</th>\n",
       "      <td>48.75</td>\n",
       "    </tr>\n",
       "    <tr>\n",
       "      <th>4</th>\n",
       "      <td>42.75</td>\n",
       "    </tr>\n",
       "    <tr>\n",
       "      <th>5</th>\n",
       "      <td>31.50</td>\n",
       "    </tr>\n",
       "    <tr>\n",
       "      <th>6</th>\n",
       "      <td>23.25</td>\n",
       "    </tr>\n",
       "    <tr>\n",
       "      <th>7</th>\n",
       "      <td>18.75</td>\n",
       "    </tr>\n",
       "    <tr>\n",
       "      <th>8</th>\n",
       "      <td>17.25</td>\n",
       "    </tr>\n",
       "    <tr>\n",
       "      <th>9</th>\n",
       "      <td>25.50</td>\n",
       "    </tr>\n",
       "    <tr>\n",
       "      <th>10</th>\n",
       "      <td>39.00</td>\n",
       "    </tr>\n",
       "    <tr>\n",
       "      <th>11</th>\n",
       "      <td>54.00</td>\n",
       "    </tr>\n",
       "    <tr>\n",
       "      <th>12</th>\n",
       "      <td>68.25</td>\n",
       "    </tr>\n",
       "    <tr>\n",
       "      <th>13</th>\n",
       "      <td>80.25</td>\n",
       "    </tr>\n",
       "  </tbody>\n",
       "</table>\n",
       "</div>"
      ],
      "text/plain": [
       "    value\n",
       "2   57.00\n",
       "3   48.75\n",
       "4   42.75\n",
       "5   31.50\n",
       "6   23.25\n",
       "7   18.75\n",
       "8   17.25\n",
       "9   25.50\n",
       "10  39.00\n",
       "11  54.00\n",
       "12  68.25\n",
       "13  80.25"
      ]
     },
     "metadata": {},
     "output_type": "display_data"
    }
   ],
   "source": [
    "# 2-11\n",
    "\n",
    "#  ３項移動平均\n",
    "display(pd.read_csv(\"初歩からの統計-演習/2-11.csv\")[[\"value\"]].rolling(3, center=True).mean().dropna())\n",
    "\n",
    "#  5項移動平均\n",
    "display(pd.read_csv(\"初歩からの統計-演習/2-11.csv\")[[\"value\"]].rolling(5, center=True).mean().dropna())\n",
    "\n",
    "#  中心化4項移動平均\n",
    "display(pd.read_csv(\"初歩からの統計-演習/2-11.csv\")[[\"value\"]].rolling(4).mean().shift(-2).rolling(2).mean().dropna())"
   ]
  },
  {
   "cell_type": "markdown",
   "metadata": {},
   "source": [
    "### 第３章"
   ]
  },
  {
   "cell_type": "code",
   "execution_count": 27,
   "metadata": {},
   "outputs": [
    {
     "name": "stdout",
     "output_type": "stream",
     "text": [
      "範囲 -> 9\n",
      "第1四分位数 -> 2\n",
      "第2四分位数 -> 4\n",
      "第3四分位数 -> 6\n",
      "四分位範囲 -> 4\n",
      "四分位偏差 -> 2.0\n",
      "平均偏差 -> 2.2857142857142856\n",
      "メディアン偏差 -> 2.2857142857142856\n",
      "分散 -> 9.0\n",
      "標準偏差 -> 3.0\n",
      "変動係数 -> 0.75\n",
      "標本歪度 -> 0.4666666666666667\n"
     ]
    },
    {
     "name": "stderr",
     "output_type": "stream",
     "text": [
      "/Users/maruyama/opt/anaconda3/lib/python3.7/site-packages/matplotlib/backends/backend_agg.py:211: RuntimeWarning: Glyph 31665 missing from current font.\n",
      "  font.set_text(s, 0.0, flags=flags)\n",
      "/Users/maruyama/opt/anaconda3/lib/python3.7/site-packages/matplotlib/backends/backend_agg.py:211: RuntimeWarning: Glyph 12402 missing from current font.\n",
      "  font.set_text(s, 0.0, flags=flags)\n",
      "/Users/maruyama/opt/anaconda3/lib/python3.7/site-packages/matplotlib/backends/backend_agg.py:211: RuntimeWarning: Glyph 12370 missing from current font.\n",
      "  font.set_text(s, 0.0, flags=flags)\n",
      "/Users/maruyama/opt/anaconda3/lib/python3.7/site-packages/matplotlib/backends/backend_agg.py:211: RuntimeWarning: Glyph 22259 missing from current font.\n",
      "  font.set_text(s, 0.0, flags=flags)\n",
      "/Users/maruyama/opt/anaconda3/lib/python3.7/site-packages/matplotlib/backends/backend_agg.py:180: RuntimeWarning: Glyph 31665 missing from current font.\n",
      "  font.set_text(s, 0, flags=flags)\n",
      "/Users/maruyama/opt/anaconda3/lib/python3.7/site-packages/matplotlib/backends/backend_agg.py:180: RuntimeWarning: Glyph 12402 missing from current font.\n",
      "  font.set_text(s, 0, flags=flags)\n",
      "/Users/maruyama/opt/anaconda3/lib/python3.7/site-packages/matplotlib/backends/backend_agg.py:180: RuntimeWarning: Glyph 12370 missing from current font.\n",
      "  font.set_text(s, 0, flags=flags)\n",
      "/Users/maruyama/opt/anaconda3/lib/python3.7/site-packages/matplotlib/backends/backend_agg.py:180: RuntimeWarning: Glyph 22259 missing from current font.\n",
      "  font.set_text(s, 0, flags=flags)\n"
     ]
    },
    {
     "data": {
      "image/png": "[encoded data removed]",
      "text/plain": [
       "<Figure size 432x288 with 1 Axes>"
      ]
     },
     "metadata": {
      "needs_background": "light"
     },
     "output_type": "display_data"
    }
   ],
   "source": [
    "# 3-1\n",
    "\n",
    "data = pd.read_csv(\"初歩からの統計-演習/3-1.csv\")[[\"value\"]].values.reshape(1, -1)[0]\n",
    "\n",
    "print(f\"範囲 -> {data.max() - data.min()}\")\n",
    "\n",
    "quantiles = np.quantile(data, [0.25, 0.5, 0.75], axis=0, interpolation=\"higher\")\n",
    "for index, value in enumerate(quantiles):\n",
    "    print(f\"第{index+1}四分位数 -> {value}\")\n",
    "\n",
    "print(f\"四分位範囲 -> {quantiles[2] - quantiles[0]}\")\n",
    "print(f\"四分位偏差 -> {(quantiles[2] - quantiles[0]) / 2}\")\n",
    "\n",
    "fig, ax = plt.subplots()\n",
    "ax.boxplot(x=data)\n",
    "ax.set_title(\"箱ひげ図\")\n",
    "\n",
    "def calc_deviation(x, value):\n",
    "    return abs(x - value)\n",
    "ave_deviation = calc_deviation(data, data.mean()).mean()\n",
    "print(f\"平均偏差 -> {ave_deviation}\")\n",
    "\n",
    "median_deviation = calc_deviation(data, np.median(data)).mean()\n",
    "print(f\"メディアン偏差 -> {median_deviation}\")\n",
    "\n",
    "print(f\"分散 -> {np.var(data, ddof=1)}\")\n",
    "\n",
    "print(f\"標準偏差 -> {np.std(data, ddof=1)}\")\n",
    "\n",
    "print(f\"変動係数 -> {np.std(data, ddof=1)/data.mean()}\")\n",
    "\n",
    "def calc_3pow(x, value):\n",
    "    return np.power(x - value, 3)\n",
    "\n",
    "skew = data.shape[0] / ((data.shape[0] - 1)*(data.shape[0] - 2)) * calc_3pow(data, data.mean()).sum() / math.pow(round(np.std(data)), 3)\n",
    "print(f\"標本歪度 -> {skew}\")"
   ]
  },
  {
   "cell_type": "code",
   "execution_count": 28,
   "metadata": {},
   "outputs": [
    {
     "name": "stdout",
     "output_type": "stream",
     "text": [
      "範囲 -> 16\n",
      "第1四分位数 -> 16\n",
      "第2四分位数 -> 20\n",
      "第3四分位数 -> 24\n",
      "四分位範囲 -> 8\n",
      "四分位偏差 -> 4.0\n",
      "平均偏差 -> 4.133333333333334\n",
      "メディアン偏差 -> 4.133333333333334\n",
      "分散 -> 25.0\n",
      "標準偏差 -> 5.0\n",
      "変動係数 -> 0.25\n",
      "標本歪度 -> 0.35604395604395606\n"
     ]
    },
    {
     "name": "stderr",
     "output_type": "stream",
     "text": [
      "/Users/maruyama/opt/anaconda3/lib/python3.7/site-packages/matplotlib/backends/backend_agg.py:211: RuntimeWarning: Glyph 31665 missing from current font.\n",
      "  font.set_text(s, 0.0, flags=flags)\n",
      "/Users/maruyama/opt/anaconda3/lib/python3.7/site-packages/matplotlib/backends/backend_agg.py:211: RuntimeWarning: Glyph 12402 missing from current font.\n",
      "  font.set_text(s, 0.0, flags=flags)\n",
      "/Users/maruyama/opt/anaconda3/lib/python3.7/site-packages/matplotlib/backends/backend_agg.py:211: RuntimeWarning: Glyph 12370 missing from current font.\n",
      "  font.set_text(s, 0.0, flags=flags)\n",
      "/Users/maruyama/opt/anaconda3/lib/python3.7/site-packages/matplotlib/backends/backend_agg.py:211: RuntimeWarning: Glyph 22259 missing from current font.\n",
      "  font.set_text(s, 0.0, flags=flags)\n",
      "/Users/maruyama/opt/anaconda3/lib/python3.7/site-packages/matplotlib/backends/backend_agg.py:180: RuntimeWarning: Glyph 31665 missing from current font.\n",
      "  font.set_text(s, 0, flags=flags)\n",
      "/Users/maruyama/opt/anaconda3/lib/python3.7/site-packages/matplotlib/backends/backend_agg.py:180: RuntimeWarning: Glyph 12402 missing from current font.\n",
      "  font.set_text(s, 0, flags=flags)\n",
      "/Users/maruyama/opt/anaconda3/lib/python3.7/site-packages/matplotlib/backends/backend_agg.py:180: RuntimeWarning: Glyph 12370 missing from current font.\n",
      "  font.set_text(s, 0, flags=flags)\n",
      "/Users/maruyama/opt/anaconda3/lib/python3.7/site-packages/matplotlib/backends/backend_agg.py:180: RuntimeWarning: Glyph 22259 missing from current font.\n",
      "  font.set_text(s, 0, flags=flags)\n"
     ]
    },
    {
     "data": {
      "image/png": "[encoded data removed]",
      "text/plain": [
       "<Figure size 432x288 with 1 Axes>"
      ]
     },
     "metadata": {
      "needs_background": "light"
     },
     "output_type": "display_data"
    }
   ],
   "source": [
    "# 3-2\n",
    "\n",
    "data = pd.read_csv(\"初歩からの統計-演習/3-2.csv\")[[\"value\"]].values.reshape(1, -1)[0]\n",
    "\n",
    "print(f\"範囲 -> {data.max() - data.min()}\")\n",
    "\n",
    "quantiles = np.quantile(data, [0.25, 0.5, 0.75], axis=0, interpolation=\"higher\")\n",
    "for index, value in enumerate(quantiles):\n",
    "    print(f\"第{index+1}四分位数 -> {value}\")\n",
    "\n",
    "print(f\"四分位範囲 -> {quantiles[2] - quantiles[0]}\")\n",
    "print(f\"四分位偏差 -> {(quantiles[2] - quantiles[0]) / 2}\")\n",
    "\n",
    "fig, ax = plt.subplots()\n",
    "ax.boxplot(x=data)\n",
    "ax.set_title(\"箱ひげ図\")\n",
    "\n",
    "ave_deviation = calc_deviation(data, data.mean()).mean()\n",
    "print(f\"平均偏差 -> {ave_deviation}\")\n",
    "\n",
    "median_deviation = calc_deviation(data, np.median(data)).mean()\n",
    "print(f\"メディアン偏差 -> {median_deviation}\")\n",
    "\n",
    "print(f\"分散 -> {np.var(data, ddof=1)}\")\n",
    "\n",
    "print(f\"標準偏差 -> {np.std(data, ddof=1)}\")\n",
    "\n",
    "print(f\"変動係数 -> {np.std(data, ddof=1)/data.mean()}\")\n",
    "\n",
    "skew = data.shape[0] / ((data.shape[0] - 1)*(data.shape[0] - 2)) * calc_3pow(data, data.mean()).sum() / math.pow(round(np.std(data)), 3)\n",
    "print(f\"標本歪度 -> {skew}\")"
   ]
  },
  {
   "cell_type": "code",
   "execution_count": 29,
   "metadata": {},
   "outputs": [
    {
     "name": "stdout",
     "output_type": "stream",
     "text": [
      "教養 標準変化量 -> 1.75\n",
      "教養 偏差値 -> 67.5\n",
      "専門 標準変化量 -> 1.25\n",
      "専門 偏差値 -> 62.5\n"
     ]
    }
   ],
   "source": [
    "# 3-3\n",
    "\n",
    "#教養 平均値\n",
    "ave_1 = 32\n",
    "#教養 標準偏差\n",
    "s_1 = 8\n",
    "\n",
    "#専門 平均値\n",
    "ave_2 = 45\n",
    "#専門 標準偏差\n",
    "s_2 = 12\n",
    "\n",
    "amount_1 = (46 - ave_1) / s_1\n",
    "print(f\"教養 標準変化量 -> {amount_1}\")\n",
    "print(f\"教養 偏差値 -> {amount_1 * 10 +50}\")\n",
    "\n",
    "amount_2  = (60 - ave_2) / s_2\n",
    "print(f\"専門 標準変化量 -> {amount_2}\")\n",
    "print(f\"専門 偏差値 -> {amount_2*10 + 50}\")"
   ]
  },
  {
   "cell_type": "code",
   "execution_count": 30,
   "metadata": {},
   "outputs": [
    {
     "name": "stdout",
     "output_type": "stream",
     "text": [
      "範囲 -> 66\n",
      "第1四分位数 -> 142\n",
      "第2四分位数 -> 150\n",
      "第3四分位数 -> 160\n",
      "四分位範囲 -> 18\n",
      "四分位偏差 -> 9.0\n",
      "平均偏差 -> 11.806451612903226\n",
      "メディアン偏差 -> 11.806451612903226\n",
      "分散 -> 256.0\n",
      "標準偏差 -> 16.0\n",
      "変動係数 -> 0.10666666666666667\n",
      "標本歪度 -> 0.0468194369612069\n",
      "68% 乗車率範囲 ->134.0 - 166.0 カウント -> 21\n",
      "95% 乗車率範囲 ->118.0 - 182.0 カウント -> 30\n",
      "少なくとも89% 乗車率範囲 ->102.0 - 198.0\n"
     ]
    },
    {
     "name": "stderr",
     "output_type": "stream",
     "text": [
      "/Users/maruyama/opt/anaconda3/lib/python3.7/site-packages/matplotlib/backends/backend_agg.py:211: RuntimeWarning: Glyph 31665 missing from current font.\n",
      "  font.set_text(s, 0.0, flags=flags)\n",
      "/Users/maruyama/opt/anaconda3/lib/python3.7/site-packages/matplotlib/backends/backend_agg.py:211: RuntimeWarning: Glyph 12402 missing from current font.\n",
      "  font.set_text(s, 0.0, flags=flags)\n",
      "/Users/maruyama/opt/anaconda3/lib/python3.7/site-packages/matplotlib/backends/backend_agg.py:211: RuntimeWarning: Glyph 12370 missing from current font.\n",
      "  font.set_text(s, 0.0, flags=flags)\n",
      "/Users/maruyama/opt/anaconda3/lib/python3.7/site-packages/matplotlib/backends/backend_agg.py:211: RuntimeWarning: Glyph 22259 missing from current font.\n",
      "  font.set_text(s, 0.0, flags=flags)\n",
      "/Users/maruyama/opt/anaconda3/lib/python3.7/site-packages/matplotlib/backends/backend_agg.py:180: RuntimeWarning: Glyph 31665 missing from current font.\n",
      "  font.set_text(s, 0, flags=flags)\n",
      "/Users/maruyama/opt/anaconda3/lib/python3.7/site-packages/matplotlib/backends/backend_agg.py:180: RuntimeWarning: Glyph 12402 missing from current font.\n",
      "  font.set_text(s, 0, flags=flags)\n",
      "/Users/maruyama/opt/anaconda3/lib/python3.7/site-packages/matplotlib/backends/backend_agg.py:180: RuntimeWarning: Glyph 12370 missing from current font.\n",
      "  font.set_text(s, 0, flags=flags)\n",
      "/Users/maruyama/opt/anaconda3/lib/python3.7/site-packages/matplotlib/backends/backend_agg.py:180: RuntimeWarning: Glyph 22259 missing from current font.\n",
      "  font.set_text(s, 0, flags=flags)\n"
     ]
    },
    {
     "data": {
      "image/png": "[encoded data removed]",
      "text/plain": [
       "<Figure size 432x288 with 1 Axes>"
      ]
     },
     "metadata": {
      "needs_background": "light"
     },
     "output_type": "display_data"
    }
   ],
   "source": [
    "# 3-4\n",
    "\n",
    "data = pd.read_csv(\"初歩からの統計-演習/3-4.csv\")[[\"value\"]].values.reshape(1, -1)[0]\n",
    "\n",
    "print(f\"範囲 -> {data.max() - data.min()}\")\n",
    "\n",
    "quantiles = np.quantile(data, [0.25, 0.5, 0.75], axis=0, interpolation=\"higher\")\n",
    "for index, value in enumerate(quantiles):\n",
    "    print(f\"第{index+1}四分位数 -> {value}\")\n",
    "\n",
    "print(f\"四分位範囲 -> {quantiles[2] - quantiles[0]}\")\n",
    "print(f\"四分位偏差 -> {(quantiles[2] - quantiles[0]) / 2}\")\n",
    "\n",
    "fig, ax = plt.subplots()\n",
    "ax.boxplot(x=data)\n",
    "ax.set_title(\"箱ひげ図\")\n",
    "\n",
    "ave_deviation = calc_deviation(data, data.mean()).mean()\n",
    "print(f\"平均偏差 -> {ave_deviation}\")\n",
    "\n",
    "median_deviation = calc_deviation(data, np.median(data)).mean()\n",
    "print(f\"メディアン偏差 -> {median_deviation}\")\n",
    "\n",
    "print(f\"分散 -> {np.var(data, ddof=1)}\")\n",
    "\n",
    "print(f\"標準偏差 -> {np.std(data, ddof=1)}\")\n",
    "\n",
    "print(f\"変動係数 -> {np.std(data, ddof=1)/data.mean()}\")\n",
    "\n",
    "skew = data.shape[0] / ((data.shape[0] - 1)*(data.shape[0] - 2)) * calc_3pow(data, data.mean()).sum() / math.pow(round(np.std(data)), 3)\n",
    "print(f\"標本歪度 -> {skew}\")\n",
    "\n",
    "mean = data.mean()\n",
    "s = np.std(data, ddof=1)\n",
    "count_1 = data[(data >= (mean - s))&(data <= (mean + s))].shape[0]\n",
    "print(f\"68% 乗車率範囲 ->{mean -s} - {mean + s} カウント -> {count_1}\")\n",
    "count_2 = data[(data >= (mean - 2*s))&(data <= (mean + 2*s))].shape[0]\n",
    "print(f\"95% 乗車率範囲 ->{mean -2*s} - {mean +2* s} カウント -> {count_2}\")\n",
    "print(f\"少なくとも89% 乗車率範囲 ->{mean -3*s} - {mean +3* s}\")"
   ]
  },
  {
   "cell_type": "code",
   "execution_count": 31,
   "metadata": {},
   "outputs": [
    {
     "name": "stdout",
     "output_type": "stream",
     "text": [
      "範囲 -> 285\n",
      "第1四分位数 -> 435\n",
      "第2四分位数 -> 462\n",
      "第3四分位数 -> 500\n",
      "四分位範囲 -> 65\n",
      "四分位偏差 -> 32.5\n",
      "平均偏差 -> 53.4\n",
      "メディアン偏差 -> 53.4\n",
      "分散 -> 5184.0\n",
      "標準偏差 -> 72.0\n",
      "変動係数 -> 0.1565217391304348\n",
      "標本歪度 -> 0.03932738285288573\n",
      "68% 乗車率範囲 ->388.0 - 532.0 カウント -> 21\n",
      "少なくとも75% 乗車率範囲 ->316.0 - 604.0 カウント -> 29\n"
     ]
    },
    {
     "name": "stderr",
     "output_type": "stream",
     "text": [
      "/Users/maruyama/opt/anaconda3/lib/python3.7/site-packages/matplotlib/backends/backend_agg.py:211: RuntimeWarning: Glyph 31665 missing from current font.\n",
      "  font.set_text(s, 0.0, flags=flags)\n",
      "/Users/maruyama/opt/anaconda3/lib/python3.7/site-packages/matplotlib/backends/backend_agg.py:211: RuntimeWarning: Glyph 12402 missing from current font.\n",
      "  font.set_text(s, 0.0, flags=flags)\n",
      "/Users/maruyama/opt/anaconda3/lib/python3.7/site-packages/matplotlib/backends/backend_agg.py:211: RuntimeWarning: Glyph 12370 missing from current font.\n",
      "  font.set_text(s, 0.0, flags=flags)\n",
      "/Users/maruyama/opt/anaconda3/lib/python3.7/site-packages/matplotlib/backends/backend_agg.py:211: RuntimeWarning: Glyph 22259 missing from current font.\n",
      "  font.set_text(s, 0.0, flags=flags)\n",
      "/Users/maruyama/opt/anaconda3/lib/python3.7/site-packages/matplotlib/backends/backend_agg.py:180: RuntimeWarning: Glyph 31665 missing from current font.\n",
      "  font.set_text(s, 0, flags=flags)\n",
      "/Users/maruyama/opt/anaconda3/lib/python3.7/site-packages/matplotlib/backends/backend_agg.py:180: RuntimeWarning: Glyph 12402 missing from current font.\n",
      "  font.set_text(s, 0, flags=flags)\n",
      "/Users/maruyama/opt/anaconda3/lib/python3.7/site-packages/matplotlib/backends/backend_agg.py:180: RuntimeWarning: Glyph 12370 missing from current font.\n",
      "  font.set_text(s, 0, flags=flags)\n",
      "/Users/maruyama/opt/anaconda3/lib/python3.7/site-packages/matplotlib/backends/backend_agg.py:180: RuntimeWarning: Glyph 22259 missing from current font.\n",
      "  font.set_text(s, 0, flags=flags)\n"
     ]
    },
    {
     "data": {
      "image/png": "[encoded data removed]",
      "text/plain": [
       "<Figure size 432x288 with 1 Axes>"
      ]
     },
     "metadata": {
      "needs_background": "light"
     },
     "output_type": "display_data"
    }
   ],
   "source": [
    "# 3-5\n",
    "\n",
    "data = pd.read_csv(\"初歩からの統計-演習/1-1.csv\")[[\"value\"]].values.reshape(1, -1)[0]\n",
    "\n",
    "print(f\"範囲 -> {data.max() - data.min()}\")\n",
    "\n",
    "quantiles = np.quantile(data, [0.25, 0.5, 0.75], axis=0, interpolation=\"higher\")\n",
    "for index, value in enumerate(quantiles):\n",
    "    print(f\"第{index+1}四分位数 -> {value}\")\n",
    "\n",
    "print(f\"四分位範囲 -> {quantiles[2] - quantiles[0]}\")\n",
    "print(f\"四分位偏差 -> {(quantiles[2] - quantiles[0]) / 2}\")\n",
    "\n",
    "fig, ax = plt.subplots()\n",
    "ax.boxplot(x=data)\n",
    "ax.set_title(\"箱ひげ図\")\n",
    "\n",
    "ave_deviation = calc_deviation(data, data.mean()).mean()\n",
    "print(f\"平均偏差 -> {ave_deviation}\")\n",
    "\n",
    "median_deviation = calc_deviation(data, np.median(data)).mean()\n",
    "print(f\"メディアン偏差 -> {median_deviation}\")\n",
    "\n",
    "print(f\"分散 -> {np.var(data, ddof=1)}\")\n",
    "\n",
    "print(f\"標準偏差 -> {np.std(data, ddof=1)}\")\n",
    "\n",
    "print(f\"変動係数 -> {np.std(data, ddof=1)/data.mean()}\")\n",
    "\n",
    "skew = data.shape[0] / ((data.shape[0] - 1)*(data.shape[0] - 2)) * calc_3pow(data, data.mean()).sum() / math.pow(round(np.std(data, ddof=1)), 3)\n",
    "print(f\"標本歪度 -> {skew}\")\n",
    "\n",
    "mean = data.mean()\n",
    "s = np.std(data, ddof=1)\n",
    "count_1 = data[(data >= (mean - s))&(data <= (mean + s))].shape[0]\n",
    "print(f\"68% 乗車率範囲 ->{mean -s} - {mean + s} カウント -> {count_1}\")\n",
    "count_2 = data[(data >= (mean - 2*s))&(data <= (mean + 2*s))].shape[0]\n",
    "print(f\"少なくとも75% 乗車率範囲 ->{mean -2*s} - {mean +2* s} カウント -> {count_2}\")"
   ]
  },
  {
   "cell_type": "code",
   "execution_count": 32,
   "metadata": {},
   "outputs": [
    {
     "name": "stdout",
     "output_type": "stream",
     "text": [
      "範囲 -> 63\n",
      "第1四分位数 -> 37.0\n",
      "第2四分位数 -> 44.5\n",
      "第3四分位数 -> 58.5\n",
      "四分位範囲 -> 21.5\n",
      "四分位偏差 -> 10.75\n"
     ]
    },
    {
     "name": "stderr",
     "output_type": "stream",
     "text": [
      "/Users/maruyama/opt/anaconda3/lib/python3.7/site-packages/matplotlib/backends/backend_agg.py:211: RuntimeWarning: Glyph 31665 missing from current font.\n",
      "  font.set_text(s, 0.0, flags=flags)\n",
      "/Users/maruyama/opt/anaconda3/lib/python3.7/site-packages/matplotlib/backends/backend_agg.py:211: RuntimeWarning: Glyph 12402 missing from current font.\n",
      "  font.set_text(s, 0.0, flags=flags)\n",
      "/Users/maruyama/opt/anaconda3/lib/python3.7/site-packages/matplotlib/backends/backend_agg.py:211: RuntimeWarning: Glyph 12370 missing from current font.\n",
      "  font.set_text(s, 0.0, flags=flags)\n",
      "/Users/maruyama/opt/anaconda3/lib/python3.7/site-packages/matplotlib/backends/backend_agg.py:211: RuntimeWarning: Glyph 22259 missing from current font.\n",
      "  font.set_text(s, 0.0, flags=flags)\n",
      "/Users/maruyama/opt/anaconda3/lib/python3.7/site-packages/matplotlib/backends/backend_agg.py:180: RuntimeWarning: Glyph 31665 missing from current font.\n",
      "  font.set_text(s, 0, flags=flags)\n",
      "/Users/maruyama/opt/anaconda3/lib/python3.7/site-packages/matplotlib/backends/backend_agg.py:180: RuntimeWarning: Glyph 12402 missing from current font.\n",
      "  font.set_text(s, 0, flags=flags)\n",
      "/Users/maruyama/opt/anaconda3/lib/python3.7/site-packages/matplotlib/backends/backend_agg.py:180: RuntimeWarning: Glyph 12370 missing from current font.\n",
      "  font.set_text(s, 0, flags=flags)\n",
      "/Users/maruyama/opt/anaconda3/lib/python3.7/site-packages/matplotlib/backends/backend_agg.py:180: RuntimeWarning: Glyph 22259 missing from current font.\n",
      "  font.set_text(s, 0, flags=flags)\n"
     ]
    },
    {
     "name": "stdout",
     "output_type": "stream",
     "text": [
      "平均偏差 -> 13.066666666666666\n",
      "メディアン偏差 -> 12.633333333333333\n",
      "分散 -> 256.0\n",
      "標準偏差 -> 16.0\n",
      "変動係数 -> 0.32653061224489793\n",
      "標本歪度 -> 0.8340363137419637\n",
      "68% 乗車率範囲 ->33.0 - 65.0 カウント -> 41\n"
     ]
    },
    {
     "data": {
      "image/png": "[encoded data removed]",
      "text/plain": [
       "<Figure size 432x288 with 1 Axes>"
      ]
     },
     "metadata": {
      "needs_background": "light"
     },
     "output_type": "display_data"
    }
   ],
   "source": [
    "# 3-6\n",
    "\n",
    "data = pd.read_csv(\"初歩からの統計-演習/1-2.csv\", names=[\"value\", \"a\", \"b\", \"c\", \"d\", \"e\", \"f\"])[[\"value\"]].values.reshape(1, -1)[0]\n",
    "\n",
    "print(f\"範囲 -> {data.max() - data.min()}\")\n",
    "\n",
    "quantiles = np.quantile(data, [0.25, 0.5, 0.75], axis=0, interpolation=\"midpoint\")\n",
    "for index, value in enumerate(quantiles):\n",
    "    print(f\"第{index+1}四分位数 -> {value}\")\n",
    "\n",
    "print(f\"四分位範囲 -> {quantiles[2] - quantiles[0]}\")\n",
    "print(f\"四分位偏差 -> {(quantiles[2] - quantiles[0]) / 2}\")\n",
    "\n",
    "fig, ax = plt.subplots()\n",
    "ax.boxplot(x=data)\n",
    "ax.set_title(\"箱ひげ図\")\n",
    "\n",
    "ave_deviation = calc_deviation(data, data.mean()).mean()\n",
    "print(f\"平均偏差 -> {ave_deviation}\")\n",
    "\n",
    "median_deviation = calc_deviation(data, np.median(data)).mean()\n",
    "print(f\"メディアン偏差 -> {median_deviation}\")\n",
    "\n",
    "print(f\"分散 -> {np.var(data, ddof=1)}\")\n",
    "\n",
    "print(f\"標準偏差 -> {np.std(data, ddof=1)}\")\n",
    "\n",
    "print(f\"変動係数 -> {np.std(data, ddof=1)/data.mean()}\")\n",
    "\n",
    "skew = data.shape[0] / ((data.shape[0] - 1)*(data.shape[0] - 2)) * calc_3pow(data, data.mean()).sum() / math.pow(round(np.std(data, ddof=1)), 3)\n",
    "print(f\"標本歪度 -> {skew}\")\n",
    "\n",
    "mean = data.mean()\n",
    "s = np.std(data, ddof=1)\n",
    "count_1 = data[(data >= (mean - s))&(data <= (mean + s))].shape[0]\n",
    "print(f\"68% 乗車率範囲 ->{mean -s} - {mean + s} カウント -> {count_1}\")"
   ]
  },
  {
   "cell_type": "code",
   "execution_count": 33,
   "metadata": {},
   "outputs": [
    {
     "name": "stdout",
     "output_type": "stream",
     "text": [
      "範囲 -> 56\n",
      "第1四分位数 -> 35.5\n",
      "第2四分位数 -> 44.0\n",
      "第3四分位数 -> 52.5\n",
      "四分位範囲 -> 17.0\n",
      "四分位偏差 -> 8.5\n",
      "平均偏差 -> 9.52\n",
      "メディアン偏差 -> 9.52\n",
      "分散 -> 144.0\n",
      "標準偏差 -> 12.0\n",
      "変動係数 -> 0.2727272727272727\n",
      "標本歪度 -> -0.0003578872626491674\n",
      "68% 乗車率範囲 ->32.0 - 56.0 カウント -> 68\n",
      "95% 乗車率範囲 ->20.0 - 68.0 カウント -> 96\n",
      "少なくとも89% 乗車率範囲 ->8.0 - 80.0 カウント -> 100\n"
     ]
    },
    {
     "name": "stderr",
     "output_type": "stream",
     "text": [
      "/Users/maruyama/opt/anaconda3/lib/python3.7/site-packages/matplotlib/backends/backend_agg.py:211: RuntimeWarning: Glyph 31665 missing from current font.\n",
      "  font.set_text(s, 0.0, flags=flags)\n",
      "/Users/maruyama/opt/anaconda3/lib/python3.7/site-packages/matplotlib/backends/backend_agg.py:211: RuntimeWarning: Glyph 12402 missing from current font.\n",
      "  font.set_text(s, 0.0, flags=flags)\n",
      "/Users/maruyama/opt/anaconda3/lib/python3.7/site-packages/matplotlib/backends/backend_agg.py:211: RuntimeWarning: Glyph 12370 missing from current font.\n",
      "  font.set_text(s, 0.0, flags=flags)\n",
      "/Users/maruyama/opt/anaconda3/lib/python3.7/site-packages/matplotlib/backends/backend_agg.py:211: RuntimeWarning: Glyph 22259 missing from current font.\n",
      "  font.set_text(s, 0.0, flags=flags)\n",
      "/Users/maruyama/opt/anaconda3/lib/python3.7/site-packages/matplotlib/backends/backend_agg.py:180: RuntimeWarning: Glyph 31665 missing from current font.\n",
      "  font.set_text(s, 0, flags=flags)\n",
      "/Users/maruyama/opt/anaconda3/lib/python3.7/site-packages/matplotlib/backends/backend_agg.py:180: RuntimeWarning: Glyph 12402 missing from current font.\n",
      "  font.set_text(s, 0, flags=flags)\n",
      "/Users/maruyama/opt/anaconda3/lib/python3.7/site-packages/matplotlib/backends/backend_agg.py:180: RuntimeWarning: Glyph 12370 missing from current font.\n",
      "  font.set_text(s, 0, flags=flags)\n",
      "/Users/maruyama/opt/anaconda3/lib/python3.7/site-packages/matplotlib/backends/backend_agg.py:180: RuntimeWarning: Glyph 22259 missing from current font.\n",
      "  font.set_text(s, 0, flags=flags)\n"
     ]
    },
    {
     "data": {
      "image/png": "[encoded data removed]",
      "text/plain": [
       "<Figure size 432x288 with 1 Axes>"
      ]
     },
     "metadata": {
      "needs_background": "light"
     },
     "output_type": "display_data"
    }
   ],
   "source": [
    "# 3-7\n",
    "\n",
    "data = pd.read_csv(\"初歩からの統計-演習/1-3.csv\", names=[\"value\"])[\"value\"].astype(int).values\n",
    "\n",
    "print(f\"範囲 -> {data.max() - data.min()}\")\n",
    "\n",
    "quantiles = np.quantile(data, [0.25, 0.5, 0.75], axis=0, interpolation=\"midpoint\")\n",
    "for index, value in enumerate(quantiles):\n",
    "    print(f\"第{index+1}四分位数 -> {value}\")\n",
    "\n",
    "print(f\"四分位範囲 -> {quantiles[2] - quantiles[0]}\")\n",
    "print(f\"四分位偏差 -> {(quantiles[2] - quantiles[0]) / 2}\")\n",
    "\n",
    "fig, ax = plt.subplots()\n",
    "ax.boxplot(x=data)\n",
    "ax.set_title(\"箱ひげ図\")\n",
    "\n",
    "ave_deviation = calc_deviation(data, data.mean()).mean()\n",
    "print(f\"平均偏差 -> {ave_deviation}\")\n",
    "\n",
    "median_deviation = calc_deviation(data, np.median(data)).mean()\n",
    "print(f\"メディアン偏差 -> {median_deviation}\")\n",
    "\n",
    "print(f\"分散 -> {np.var(data, ddof=1)}\")\n",
    "\n",
    "print(f\"標準偏差 -> {np.std(data, ddof=1)}\")\n",
    "\n",
    "print(f\"変動係数 -> {np.std(data, ddof=1)/data.mean()}\")\n",
    "\n",
    "skew = data.shape[0] / ((data.shape[0] - 1)*(data.shape[0] - 2)) * calc_3pow(data, data.mean()).sum() / math.pow(np.std(data, ddof=1), 3)\n",
    "print(f\"標本歪度 -> {skew}\")\n",
    "\n",
    "mean = data.mean()\n",
    "s = np.std(data, ddof=1)\n",
    "count_1 = data[(data >= (mean - s))&(data <= (mean + s))].shape[0]\n",
    "print(f\"68% 乗車率範囲 ->{mean -s} - {mean + s} カウント -> {count_1}\")\n",
    "count_2 = data[(data >= (mean - 2*s))&(data <= (mean + 2*s))].shape[0]\n",
    "print(f\"95% 乗車率範囲 ->{mean -2*s} - {mean +2* s} カウント -> {count_2}\")\n",
    "count_3 = data[(data >= (mean - 3*s))&(data <= (mean + 3*s))].shape[0]\n",
    "print(f\"少なくとも89% 乗車率範囲 ->{mean -3*s} - {mean +3* s} カウント -> {count_3}\")"
   ]
  },
  {
   "cell_type": "markdown",
   "metadata": {},
   "source": [
    "### 第４章"
   ]
  },
  {
   "cell_type": "code",
   "execution_count": 34,
   "metadata": {},
   "outputs": [
    {
     "name": "stdout",
     "output_type": "stream",
     "text": [
      "[1] -> 6.0\n",
      "[2] -> 24.0\n",
      "[3] -> 20.0\n"
     ]
    }
   ],
   "source": [
    "# 4-1\n",
    "print(f\"[1] -> {perm(3, 2)}\")\n",
    "print(f\"[2] -> {perm(4, 3)}\")\n",
    "print(f\"[3] -> {perm(5, 2)}\")"
   ]
  },
  {
   "cell_type": "code",
   "execution_count": 35,
   "metadata": {},
   "outputs": [
    {
     "data": {
      "text/plain": [
       "4896.0"
      ]
     },
     "execution_count": 35,
     "metadata": {},
     "output_type": "execute_result"
    }
   ],
   "source": [
    "# 4-2\n",
    "perm(18, 3)"
   ]
  },
  {
   "cell_type": "code",
   "execution_count": 36,
   "metadata": {},
   "outputs": [
    {
     "name": "stdout",
     "output_type": "stream",
     "text": [
      " [1] -> 4320\n",
      " [2] -> 1440\n",
      " [3] -> 10080\n",
      " [4] -> 4320.0\n",
      " [5] -> 14400.0\n",
      " [6] -> 14400.0\n"
     ]
    }
   ],
   "source": [
    "# 4-3\n",
    "\n",
    "print(f\" [1] -> { math.factorial(3)*math.factorial(6) }\")\n",
    "\n",
    "print(f\" [2] -> { math.factorial(2)*math.factorial(5)*math.factorial(3) }\")\n",
    "print(f\" [3] -> { math.factorial(2)*math.factorial(7)}\")\n",
    "print(f\" [4] -> { perm(3, 2)*math.factorial(6)}\")\n",
    "print(f\" [5] -> { perm(5, 2)*math.factorial(6)}\")\n",
    "print(f\" [6] -> { perm(5, 5) * perm(6,3) }\")"
   ]
  },
  {
   "cell_type": "code",
   "execution_count": 37,
   "metadata": {},
   "outputs": [
    {
     "name": "stdout",
     "output_type": "stream",
     "text": [
      "[1] -> 40320\n",
      "[2] -> 2880\n",
      "[3] -> 2880\n"
     ]
    }
   ],
   "source": [
    "# 4-4\n",
    "\n",
    "print(f\"[1] -> {math.factorial(9-1)}\")\n",
    "print(f\"[2] -> {math.factorial(6 -1) * math.factorial(4)}\")\n",
    "print(f\"[3] -> {math.factorial(4) * math.factorial(5)}\")"
   ]
  },
  {
   "cell_type": "code",
   "execution_count": 38,
   "metadata": {},
   "outputs": [
    {
     "data": {
      "text/plain": [
       "181440.0"
      ]
     },
     "execution_count": 38,
     "metadata": {},
     "output_type": "execute_result"
    }
   ],
   "source": [
    "# 4-5\n",
    "\n",
    "math.factorial(10-1)/2"
   ]
  },
  {
   "cell_type": "code",
   "execution_count": 39,
   "metadata": {},
   "outputs": [
    {
     "name": "stdout",
     "output_type": "stream",
     "text": [
      "[1] -> 676.0\n",
      "[2] -> 17576.0\n",
      "[3] -> 456976.0\n"
     ]
    }
   ],
   "source": [
    "# 4-6\n",
    "\n",
    "print(f\"[1] -> {math.pow(26, 2)}\")\n",
    "\n",
    "print(f\"[2] -> {math.pow(26, 3)}\")\n",
    "\n",
    "print(f\"[3] -> {math.pow(26, 4)}\")"
   ]
  },
  {
   "cell_type": "code",
   "execution_count": 40,
   "metadata": {},
   "outputs": [
    {
     "data": {
      "text/plain": [
       "512.0"
      ]
     },
     "execution_count": 40,
     "metadata": {},
     "output_type": "execute_result"
    }
   ],
   "source": [
    "# 4-7\n",
    "\n",
    "math.pow(2, 9)"
   ]
  },
  {
   "cell_type": "code",
   "execution_count": 41,
   "metadata": {},
   "outputs": [
    {
     "data": {
      "text/plain": [
       "12600.0"
      ]
     },
     "execution_count": 41,
     "metadata": {},
     "output_type": "execute_result"
    }
   ],
   "source": [
    "# 4-8\n",
    "\n",
    "math.factorial(10)/(math.factorial(3) * math.factorial(4) * math.factorial(2))"
   ]
  },
  {
   "cell_type": "code",
   "execution_count": 42,
   "metadata": {},
   "outputs": [
    {
     "name": "stdout",
     "output_type": "stream",
     "text": [
      "[1] -> 126.0\n",
      "[2] -> 40.0\n",
      "[2] -> 96.0\n"
     ]
    }
   ],
   "source": [
    "# 4-9\n",
    "\n",
    "print(f\"[1] -> {math.factorial(9) / (math.factorial(4) *(math.factorial(5)))}\")\n",
    "\n",
    "print(f\"[2] -> {math.factorial(5)/(math.factorial(3)*math.factorial(2)) * (math.factorial(4)/math.factorial(3))}\")\n",
    "\n",
    "print(f\"[2] -> {math.factorial(9) / (math.factorial(4) *(math.factorial(5))) - math.factorial(5) / (math.factorial(3) *(math.factorial(2)))*math.factorial(3)/2}\")"
   ]
  },
  {
   "cell_type": "code",
   "execution_count": 43,
   "metadata": {},
   "outputs": [
    {
     "name": "stdout",
     "output_type": "stream",
     "text": [
      "[1] -> 6.0\n",
      "[2] -> 35.0\n"
     ]
    }
   ],
   "source": [
    "# 4-10\n",
    "\n",
    "print(f\"[1] -> {comb(4, 2)}\")\n",
    "\n",
    "print(f\"[2] -> {comb(7, 3)}\")"
   ]
  },
  {
   "cell_type": "code",
   "execution_count": 44,
   "metadata": {},
   "outputs": [
    {
     "name": "stdout",
     "output_type": "stream",
     "text": [
      "[1] -> 6188.0\n",
      "[2] -> 2520.0\n",
      "[3] -> 1575.0\n",
      "[4] -> 6167.0\n",
      "[5] -> 5936.0\n",
      "[6] -> 5915.0\n",
      "[7] -> 455.0\n",
      "[8] -> 3185.0\n"
     ]
    }
   ],
   "source": [
    "# 4-11\n",
    "\n",
    "print(f\"[1] -> {comb(17,  5)}\")\n",
    "\n",
    "print(f\"[2] -> {comb(10,  3) * comb(7, 2)}\")\n",
    "\n",
    "print(f\"[3] -> {comb(10,  2) * comb(7, 3)}\")\n",
    "\n",
    "print(f\"[4] -> {comb(17,  5) - comb(7, 5)}\")\n",
    "\n",
    "print(f\"[5] -> {comb(17,  5) - comb(10, 5)}\")\n",
    "\n",
    "print(f\"[6] -> {comb(17,  5) - comb(10, 5) - comb(7, 5)}\")\n",
    "\n",
    "print(f\"[7] -> {comb(15, 3)}\")\n",
    "\n",
    "print(f\"[8] -> {comb(17,  5) - comb(15, 5)}\")"
   ]
  },
  {
   "cell_type": "code",
   "execution_count": 45,
   "metadata": {},
   "outputs": [
    {
     "data": {
      "text/plain": [
       "231.0"
      ]
     },
     "execution_count": 45,
     "metadata": {},
     "output_type": "execute_result"
    }
   ],
   "source": [
    "# 4-12\n",
    "\n",
    "comb(20+3-1, 20)"
   ]
  },
  {
   "cell_type": "markdown",
   "metadata": {},
   "source": [
    "### 第5章"
   ]
  },
  {
   "cell_type": "code",
   "execution_count": 46,
   "metadata": {},
   "outputs": [
    {
     "name": "stdout",
     "output_type": "stream",
     "text": [
      "[1] -> 1/8\n",
      "[2] -> 3/8\n"
     ]
    }
   ],
   "source": [
    "# 5-1\n",
    "\n",
    "print(f\"[1] -> {Fraction(1, round(math.pow(2, 3)))}\")\n",
    "\n",
    "print(f\"[2] -> {Fraction(3, round(math.pow(2, 3)))}\")"
   ]
  },
  {
   "cell_type": "code",
   "execution_count": 47,
   "metadata": {},
   "outputs": [
    {
     "name": "stdout",
     "output_type": "stream",
     "text": [
      "[1] -> 1/216\n",
      "[2] -> 1/36\n",
      "[3] -> 1/72\n",
      "[4] -> 5/9\n",
      "[5] -> 1/72\n",
      "[6] -> 1/36\n",
      "[7] -> 5/108\n",
      "[8] -> 1/36\n",
      "[9] -> 1/18\n"
     ]
    }
   ],
   "source": [
    "# 5-2\n",
    "\n",
    "print(f\"[1] -> {Fraction(1, round(math.pow(6, 3)))}\")\n",
    "\n",
    "print(f\"[2] -> {Fraction(1*6, round(math.pow(6, 3)))}\")\n",
    "\n",
    "print(f\"[3] -> {Fraction(1*3, round(math.pow(6, 3)))}\")\n",
    "\n",
    "print(f\"[4] -> {Fraction(round(perm(6, 3)), round(math.pow(6, 3)))}\")\n",
    "\n",
    "print(f\"[5] -> { Fraction(1*3, round(math.pow(6, 3)))}\")\n",
    "\n",
    "print(f\"[6] -> { Fraction(1*3 + 1*3, round(math.pow(6, 3)))}\")\n",
    "\n",
    "print(f\"[7] -> { Fraction(1 + 1*3 + math.factorial(3) , round(math.pow(6, 3)))}\")\n",
    "\n",
    "print(f\"[8] -> { Fraction(math.factorial(3) , round(math.pow(6, 3)))}\")\n",
    "\n",
    "print(f\"[9] -> { Fraction(math.factorial(3)*2 , round(math.pow(6, 3)))}\")"
   ]
  },
  {
   "cell_type": "code",
   "execution_count": 48,
   "metadata": {},
   "outputs": [
    {
     "name": "stdout",
     "output_type": "stream",
     "text": [
      "[1] -> 1/9\n",
      "[2] -> 1/3\n",
      "[3] -> 1/3\n"
     ]
    }
   ],
   "source": [
    "# 5-3\n",
    "\n",
    "print(f\"[1] -> {Fraction(3, round(math.pow(3, 3)))}\")\n",
    "\n",
    "print(f\"[2] -> {Fraction(round(perm(3, 1) * 3), round(math.pow(3, 3)))}\")\n",
    "\n",
    "print(f\"[3] -> {Fraction(3 + math.factorial(3), round(math.pow(3, 3)))}\")"
   ]
  },
  {
   "cell_type": "code",
   "execution_count": 49,
   "metadata": {},
   "outputs": [
    {
     "name": "stdout",
     "output_type": "stream",
     "text": [
      "ans -> 1/5\n"
     ]
    }
   ],
   "source": [
    "# 5-4\n",
    "\n",
    "print(f\"ans -> {Fraction(math.factorial(10-1)*2, math.factorial(11-1))}\")"
   ]
  },
  {
   "cell_type": "code",
   "execution_count": 50,
   "metadata": {},
   "outputs": [
    {
     "name": "stdout",
     "output_type": "stream",
     "text": [
      "[1] -> 11/4165\n",
      "[2] -> 44/4165\n",
      "[3] -> 2197/20825\n",
      "[4] -> 468/20825\n",
      "[5] -> 6768/270725\n"
     ]
    }
   ],
   "source": [
    "# 5-5\n",
    "\n",
    "print(f\"[1] -> {Fraction(round(comb(13, 4)), round(comb(52, 4)))}\")\n",
    "\n",
    "print(f\"[2] -> {Fraction(round(comb(13, 4))* 4, round(comb(52, 4)))}\")\n",
    "\n",
    "print(f\"[3] -> {Fraction(round(math.pow(13, 4)), round(comb(52, 4)))}\")\n",
    "\n",
    "print(f\"[4] -> {Fraction(round(comb(13, 2) *comb(13, 2)), round(comb(52, 4)))}\")\n",
    "\n",
    "print(f\"[5] -> {Fraction(round(comb(4, 2) *comb(48, 2)), round(comb(52, 4)))}\")"
   ]
  },
  {
   "cell_type": "code",
   "execution_count": 51,
   "metadata": {},
   "outputs": [
    {
     "name": "stdout",
     "output_type": "stream",
     "text": [
      "ans -> 91/216\n"
     ]
    }
   ],
   "source": [
    "# 5-6\n",
    "\n",
    "print(f\"ans -> {1-Fraction(round(math.pow(5, 3)), round(math.pow(6, 3)))}\")"
   ]
  },
  {
   "cell_type": "code",
   "execution_count": 52,
   "metadata": {},
   "outputs": [
    {
     "name": "stdout",
     "output_type": "stream",
     "text": [
      "[1] -> 1/20\n",
      "[2] -> 67/170\n"
     ]
    }
   ],
   "source": [
    "# 5-7\n",
    "\n",
    "print(f\"[1] -> { Fraction(round(comb(5, 3) +  comb(4, 3) + comb(6, 3)), round(comb(17, 3)))}\")\n",
    "\n",
    "print(f\"[2] -> { Fraction(5*4*6 + 4*6*2 + 6*2*5 + 2*5*4, round(comb(17, 3)))}\")"
   ]
  },
  {
   "cell_type": "code",
   "execution_count": 53,
   "metadata": {},
   "outputs": [
    {
     "name": "stdout",
     "output_type": "stream",
     "text": [
      "[1] -> 4/5\n",
      "[2] -> 7/10\n"
     ]
    }
   ],
   "source": [
    "# 5-8\n",
    "\n",
    "print(f\"[1] -> {Fraction(100 - 20, 100)}\")\n",
    "\n",
    "print(f\"[2] -> {Fraction(100 - 30, 100)}\")"
   ]
  },
  {
   "cell_type": "code",
   "execution_count": 54,
   "metadata": {},
   "outputs": [
    {
     "name": "stdout",
     "output_type": "stream",
     "text": [
      "[1] -> 1/20\n",
      "[1] -> 31/120\n"
     ]
    }
   ],
   "source": [
    "# 5-9\n",
    "\n",
    "print(f\"[1] -> {Fraction(1*2*3*1, 4*3*5*2)}\")\n",
    "\n",
    "print(f\"[1] -> {Fraction(3*2*3*1, 4*3*5*2) + Fraction(1*1*3*1, 4*3*5*2) + Fraction(1*2*2*1, 4*3*5*2) + Fraction(1*2*3*1, 4*3*5*2)}\")"
   ]
  },
  {
   "cell_type": "code",
   "execution_count": 55,
   "metadata": {},
   "outputs": [
    {
     "name": "stdout",
     "output_type": "stream",
     "text": [
      "ans -> 207/245\n"
     ]
    }
   ],
   "source": [
    "# 5-10\n",
    "print(f\"ans -> {Fraction(round(comb(45, 1)) , round(comb(49 ,1)))* Fraction(round(comb(46, 1)) , round(comb(50 ,1)))}\")"
   ]
  },
  {
   "cell_type": "code",
   "execution_count": 56,
   "metadata": {},
   "outputs": [
    {
     "name": "stdout",
     "output_type": "stream",
     "text": [
      "[1] -> 1/200\n",
      "[2] -> 199/200\n",
      "[3] -> 3/5\n",
      "[3] -> 2/5\n"
     ]
    }
   ],
   "source": [
    "# 5-11\n",
    "\n",
    "print(f\"[1] -> {Fraction(round(75*0.4 + 25 * 0.8), 10000)}\")\n",
    "\n",
    "print(f\"[2] -> {Fraction(round(75*99.6 + 25 * 99.2), 10000)}\")\n",
    "\n",
    "print(f\"[3] -> { Fraction(round(75*0.4 ), round(75*0.4 + 25 * 0.8))}\")\n",
    "print(f\"[3] -> { Fraction(round(25*0.8 ), round(75*0.4 + 25 * 0.8))}\")"
   ]
  },
  {
   "cell_type": "code",
   "execution_count": 57,
   "metadata": {},
   "outputs": [
    {
     "name": "stdout",
     "output_type": "stream",
     "text": [
      "[1] -> 3/7\n",
      "[2] -> 3/5\n",
      "[3] -> 4/7\n",
      "[4] -> 2/3\n"
     ]
    }
   ],
   "source": [
    "# 5-12\n",
    "\n",
    "print(f\"[1] -> {Fraction(30, 100) / Fraction(70, 100)}\")\n",
    "\n",
    "print(f\"[2] -> {Fraction(30, 100) / Fraction(50, 100)}\")\n",
    "\n",
    "print(f\"[3] -> {Fraction(40, 100) / Fraction(70, 100)}\")\n",
    "\n",
    "print(f\"[4] -> {Fraction(20, 100) / Fraction(30, 100)}\")"
   ]
  },
  {
   "cell_type": "code",
   "execution_count": 58,
   "metadata": {},
   "outputs": [
    {
     "name": "stdout",
     "output_type": "stream",
     "text": [
      "[1] -> 4/175\n",
      "[2] -> 24/175\n",
      "[3] -> 4/25\n"
     ]
    }
   ],
   "source": [
    "# 5-13\n",
    "\n",
    "print(f\"[1] -> {Fraction(8, 50) * Fraction(7, 49)}\")\n",
    "\n",
    "print(f\"[2] -> {Fraction(42, 50) * Fraction(8, 49)}\")\n",
    "\n",
    "print(f\"[3] -> {Fraction(8, 50) * Fraction(7, 49) + Fraction(42, 50) * Fraction(8, 49)}\")"
   ]
  },
  {
   "cell_type": "code",
   "execution_count": 59,
   "metadata": {},
   "outputs": [
    {
     "name": "stdout",
     "output_type": "stream",
     "text": [
      "ans -> 12/13\n"
     ]
    }
   ],
   "source": [
    "# 5-14\n",
    "\n",
    "print(f\"ans -> {Fraction(round(60*0.8) , round(60*0.8 + 40*0.1) )}\")"
   ]
  },
  {
   "cell_type": "code",
   "execution_count": 60,
   "metadata": {},
   "outputs": [
    {
     "name": "stdout",
     "output_type": "stream",
     "text": [
      "ans -> 11/14\n"
     ]
    }
   ],
   "source": [
    "# 5-15\n",
    "\n",
    "print(f\"ans -> {Fraction(round(55*0.6) , round(55*0.6 + 45*0.2) )}\")"
   ]
  },
  {
   "cell_type": "code",
   "execution_count": 61,
   "metadata": {},
   "outputs": [
    {
     "name": "stdout",
     "output_type": "stream",
     "text": [
      "expected -> 2\n",
      "var -> 1.0\n",
      "std -> 1.0\n"
     ]
    }
   ],
   "source": [
    "# 6-1\n",
    "\n",
    "expected =  0*Fraction(1, 16 ) + 1*Fraction(1, 4)  +  2*Fraction(3, 8)  +  3*Fraction(1, 4)  +  4*Fraction(1, 16)\n",
    "print(f\"expected -> {expected}\")\n",
    "\n",
    "var = math.pow(0 - expected, 2)*Fraction(1, 16 ) + math.pow(1 - expected, 2)*Fraction(1, 4) + math.pow(2 - expected, 2)*Fraction(3, 8) +math.pow(3 - expected, 2)*Fraction(1, 4) + math.pow(4 - expected, 2)*Fraction(1, 16)\n",
    "print(f\"var -> {var}\")\n",
    "\n",
    "std = math.pow(var, 1/2)\n",
    "print(f\"std -> {std}\")"
   ]
  },
  {
   "cell_type": "code",
   "execution_count": 62,
   "metadata": {},
   "outputs": [
    {
     "name": "stdout",
     "output_type": "stream",
     "text": [
      "[1]  expected -> 6 var -> 4 std -> 2.0\n"
     ]
    }
   ],
   "source": [
    "# 6-2\n",
    "\n",
    "# 期待値\n",
    "def b_expected(n, p):\n",
    "    return n*p\n",
    "\n",
    "# 分散\n",
    "def b_var(n, p):\n",
    "    return n*p*(1 - p)\n",
    "\n",
    "# 標準偏差\n",
    "def b_std(n, p):\n",
    "    return math.pow(b_var(n, p), 1/2)\n",
    "\n",
    "print (f\"[1]  expected -> {b_expected(18, Fraction(1, 3))} var -> {b_var(18, Fraction(1, 3))} std -> {b_std(18, Fraction(1, 3))}\")"
   ]
  },
  {
   "cell_type": "code",
   "execution_count": 63,
   "metadata": {},
   "outputs": [
    {
     "name": "stdout",
     "output_type": "stream",
     "text": [
      "[1] -> 243/1024\n",
      "[2] -> 405/1024\n"
     ]
    }
   ],
   "source": [
    "#6-3\n",
    "\n",
    "def fraction_pow(f, n):\n",
    "    ret = 1\n",
    "    for i in range(0, n, 1):\n",
    "        ret = ret*f\n",
    "    return ret\n",
    "\n",
    "# 2項分布\n",
    "def b_probability(n, count_positive, p):\n",
    "    return round(comb(n, count_positive)) * fraction_pow(p, count_positive) * fraction_pow(1-p, n-count_positive)\n",
    "\n",
    "print(f\"[1] -> {b_probability(5, 0, Fraction(1, 4))}\")\n",
    "print(f\"[2] -> {b_probability(5, 1, Fraction(1, 4))}\")"
   ]
  },
  {
   "cell_type": "code",
   "execution_count": 64,
   "metadata": {},
   "outputs": [
    {
     "name": "stdout",
     "output_type": "stream",
     "text": [
      "[1] -> 0.22313016014842982\n",
      "[2] -> 0.33469524022264474\n"
     ]
    }
   ],
   "source": [
    "# 6-4\n",
    "\n",
    "# ポアソン分布\n",
    "def p_probability(n, count_positive, p):\n",
    "    _lambda =  n*p\n",
    "    return math.exp((-1) * _lambda)*math.pow(_lambda, count_positive) / math.factorial(count_positive)\n",
    "\n",
    "print(f\"[1] -> {p_probability(300, 0, 0.005)}\")\n",
    "print(f\"[2] -> {p_probability(300, 1, 0.005)}\")"
   ]
  },
  {
   "cell_type": "code",
   "execution_count": 65,
   "metadata": {},
   "outputs": [
    {
     "name": "stdout",
     "output_type": "stream",
     "text": [
      "[1] -> 0.0301973834223185\n",
      "[2] -> 0.10569084197811475\n",
      "[3] -> 0.9698026165776815\n",
      "[4] -> 0.1321685997861737\n",
      "[5] -> 0.27455504669039543\n",
      "[6] -> 0.0009118819655545162\n"
     ]
    }
   ],
   "source": [
    "# 6-5 \n",
    "from functools import reduce\n",
    "\n",
    "# 平均値のみ与えられるためλを直接代入する\n",
    "def p_probability_6_5(_lambda, count_positive):\n",
    "    return math.exp((-1) * _lambda)*math.pow(_lambda, count_positive) / math.factorial(count_positive)\n",
    "\n",
    "print(f\"[1] -> {p_probability_6_5(3.5, 0)}\")\n",
    "print(f\"[2] -> {p_probability_6_5(3.5, 1)}\")\n",
    "print(f\"[3] -> {1 - p_probability_6_5(3.5, 0)}\")\n",
    "print(f\"[4] -> {p_probability_6_5(3.5, 5)}\")\n",
    "# 0~4人入院する確率を総和して、全体から引く\n",
    "print(f\"[5] -> {1 - sum([p_probability_6_5(3.5, i) for i in range(0, 5, 1)])}\")\n",
    "print(f\"[6] -> {math.pow(p_probability_6_5(3.5, 0), 2)}\")"
   ]
  },
  {
   "cell_type": "code",
   "execution_count": 66,
   "metadata": {},
   "outputs": [],
   "source": [
    "# 6-6"
   ]
  },
  {
   "cell_type": "code",
   "execution_count": 67,
   "metadata": {},
   "outputs": [
    {
     "data": {
      "text/plain": [
       "4.9350000000000005"
      ]
     },
     "execution_count": 67,
     "metadata": {},
     "output_type": "execute_result"
    }
   ],
   "source": [
    "1.645*3"
   ]
  },
  {
   "cell_type": "code",
   "execution_count": 68,
   "metadata": {},
   "outputs": [
    {
     "data": {
      "text/plain": [
       "92.16"
      ]
     },
     "execution_count": 68,
     "metadata": {},
     "output_type": "execute_result"
    }
   ],
   "source": [
    "23.04*4"
   ]
  },
  {
   "cell_type": "markdown",
   "metadata": {},
   "source": [
    "### 12章"
   ]
  },
  {
   "cell_type": "code",
   "execution_count": 69,
   "metadata": {},
   "outputs": [
    {
     "name": "stdout",
     "output_type": "stream",
     "text": [
      "[1] ->\n"
     ]
    },
    {
     "data": {
      "text/plain": [
       "<matplotlib.axes._subplots.AxesSubplot at 0x1a1d3b5510>"
      ]
     },
     "metadata": {},
     "output_type": "display_data"
    },
    {
     "name": "stdout",
     "output_type": "stream",
     "text": [
      "[2, 3] -> -0.9731236802019037\n",
      "[4] -> True\n"
     ]
    },
    {
     "data": {
      "image/png": "[encoded data removed]",
      "text/plain": [
       "<Figure size 432x288 with 1 Axes>"
      ]
     },
     "metadata": {
      "needs_background": "light"
     },
     "output_type": "display_data"
    }
   ],
   "source": [
    "# 12-1\n",
    "\n",
    "X = [3, 6, 9, 2, 4, 7, 1, 8]\n",
    "Y = [5, 3, 1, 7, 4, 2, 8, 2]\n",
    "\n",
    "data = pd.DataFrame(data=list(zip(X,Y)), columns = [\"X\", \"Y\"])\n",
    "print(\"[1] ->\")\n",
    "display(data.plot.scatter(x=\"X\", y=\"Y\"))\n",
    "\n",
    "print(f\"[2, 3] -> {data.corr()['X'][1]}\")\n",
    "      \n",
    "print(f\"[4] -> {data.corr()['X'][1] < - 0.707}\")"
   ]
  },
  {
   "cell_type": "code",
   "execution_count": 70,
   "metadata": {},
   "outputs": [
    {
     "name": "stdout",
     "output_type": "stream",
     "text": [
      "[1] ->\n"
     ]
    },
    {
     "data": {
      "text/plain": [
       "<matplotlib.axes._subplots.AxesSubplot at 0x1a1d3b9a90>"
      ]
     },
     "metadata": {},
     "output_type": "display_data"
    },
    {
     "name": "stdout",
     "output_type": "stream",
     "text": [
      "[2, 3] -> 0.9414060581970125\n",
      "[4] -> True\n"
     ]
    },
    {
     "data": {
      "image/png": "[encoded data removed]",
      "text/plain": [
       "<Figure size 432x288 with 1 Axes>"
      ]
     },
     "metadata": {
      "needs_background": "light"
     },
     "output_type": "display_data"
    }
   ],
   "source": [
    "# 12-2\n",
    "\n",
    "X = [6.6, 5.1, 6.3, 7.0, 6.5, 5.6, 6.8, 4.2, 5.7, 6.2]\n",
    "Y = [5.3, 4.7, 4.9, 5.4, 5.1, 4.8, 5.2, 4.4, 5.0, 5.2]\n",
    "data = pd.DataFrame(data=list(zip(X, Y)), columns=[\"X\", \"Y\"])\n",
    "\n",
    "print(\"[1] ->\")\n",
    "display(data.plot.scatter(x=\"X\", y=\"Y\"))\n",
    "print(f\"[2, 3] -> {data.corr()['X'][1]}\")\n",
    "print(f\"[4] -> {data.corr()['X'][1] > 0.632}\")"
   ]
  },
  {
   "cell_type": "code",
   "execution_count": 71,
   "metadata": {},
   "outputs": [
    {
     "name": "stdout",
     "output_type": "stream",
     "text": [
      "[1] ->\n"
     ]
    },
    {
     "data": {
      "text/plain": [
       "<matplotlib.axes._subplots.AxesSubplot at 0x1a1d6fc2d0>"
      ]
     },
     "metadata": {},
     "output_type": "display_data"
    },
    {
     "name": "stdout",
     "output_type": "stream",
     "text": [
      "[2, 3] -> 0.8929963970624102\n",
      "[4] -> 5%: True 1%: True\n"
     ]
    },
    {
     "data": {
      "image/png": "[encoded data removed]",
      "text/plain": [
       "<Figure size 432x288 with 1 Axes>"
      ]
     },
     "metadata": {
      "needs_background": "light"
     },
     "output_type": "display_data"
    }
   ],
   "source": [
    "# 12-3\n",
    "X = [11, 8, 17, 6, 15, 12, 5, 18, 6, 15, 9, 16, 10, 19, 13]\n",
    "Y = [138, 122, 148, 134, 139, 135, 128, 160, 120, 149, 126, 159, 129, 164, 149]\n",
    "data = pd.DataFrame(data=list(zip(X, Y)), columns=[\"X\", \"Y\"])\n",
    "\n",
    "print(\"[1] ->\")\n",
    "display(data.plot.scatter(x=\"X\", y=\"Y\"))\n",
    "print(f\"[2, 3] -> {data.corr()['X'][1]}\")\n",
    "print(f\"[4] -> 5%: {data.corr()['X'][1] > 0.514} 1%: {data.corr()['X'][1] > 0.641}\")\n"
   ]
  },
  {
   "cell_type": "code",
   "execution_count": 72,
   "metadata": {},
   "outputs": [
    {
     "name": "stdout",
     "output_type": "stream",
     "text": [
      "[1] -> 平均:\n"
     ]
    },
    {
     "data": {
      "text/plain": [
       "English        70.0\n",
       "Japanese       75.0\n",
       "mathematics    54.0\n",
       "social         66.0\n",
       "science        60.0\n",
       "dtype: float64"
      ]
     },
     "metadata": {},
     "output_type": "display_data"
    },
    {
     "name": "stdout",
     "output_type": "stream",
     "text": [
      "[1] -> 分散:\n"
     ]
    },
    {
     "data": {
      "text/plain": [
       "English        100.0\n",
       "Japanese        64.0\n",
       "mathematics    289.0\n",
       "social         144.0\n",
       "science        225.0\n",
       "dtype: float64"
      ]
     },
     "metadata": {},
     "output_type": "display_data"
    },
    {
     "name": "stdout",
     "output_type": "stream",
     "text": [
      "[1] -> 標準偏差:\n"
     ]
    },
    {
     "data": {
      "text/plain": [
       "English        10.0\n",
       "Japanese        8.0\n",
       "mathematics    17.0\n",
       "social         12.0\n",
       "science        15.0\n",
       "dtype: float64"
      ]
     },
     "metadata": {},
     "output_type": "display_data"
    },
    {
     "name": "stdout",
     "output_type": "stream",
     "text": [
      "[2] -> \n"
     ]
    },
    {
     "data": {
      "text/html": [
       "<div>\n",
       "<style scoped>\n",
       "    .dataframe tbody tr th:only-of-type {\n",
       "        vertical-align: middle;\n",
       "    }\n",
       "\n",
       "    .dataframe tbody tr th {\n",
       "        vertical-align: top;\n",
       "    }\n",
       "\n",
       "    .dataframe thead th {\n",
       "        text-align: right;\n",
       "    }\n",
       "</style>\n",
       "<table border=\"1\" class=\"dataframe\">\n",
       "  <thead>\n",
       "    <tr style=\"text-align: right;\">\n",
       "      <th></th>\n",
       "      <th>English</th>\n",
       "      <th>Japanese</th>\n",
       "      <th>mathematics</th>\n",
       "      <th>social</th>\n",
       "      <th>science</th>\n",
       "      <th>total</th>\n",
       "    </tr>\n",
       "  </thead>\n",
       "  <tbody>\n",
       "    <tr>\n",
       "      <th>English</th>\n",
       "      <td>1.000000</td>\n",
       "      <td>0.815000</td>\n",
       "      <td>0.745294</td>\n",
       "      <td>0.752500</td>\n",
       "      <td>0.783333</td>\n",
       "      <td>0.921147</td>\n",
       "    </tr>\n",
       "    <tr>\n",
       "      <th>Japanese</th>\n",
       "      <td>0.815000</td>\n",
       "      <td>1.000000</td>\n",
       "      <td>0.478676</td>\n",
       "      <td>0.703125</td>\n",
       "      <td>0.500833</td>\n",
       "      <td>0.741738</td>\n",
       "    </tr>\n",
       "    <tr>\n",
       "      <th>mathematics</th>\n",
       "      <td>0.745294</td>\n",
       "      <td>0.478676</td>\n",
       "      <td>1.000000</td>\n",
       "      <td>0.562255</td>\n",
       "      <td>0.948235</td>\n",
       "      <td>0.907929</td>\n",
       "    </tr>\n",
       "    <tr>\n",
       "      <th>social</th>\n",
       "      <td>0.752500</td>\n",
       "      <td>0.703125</td>\n",
       "      <td>0.562255</td>\n",
       "      <td>1.000000</td>\n",
       "      <td>0.619444</td>\n",
       "      <td>0.811096</td>\n",
       "    </tr>\n",
       "    <tr>\n",
       "      <th>science</th>\n",
       "      <td>0.783333</td>\n",
       "      <td>0.500833</td>\n",
       "      <td>0.948235</td>\n",
       "      <td>0.619444</td>\n",
       "      <td>1.000000</td>\n",
       "      <td>0.928951</td>\n",
       "    </tr>\n",
       "    <tr>\n",
       "      <th>total</th>\n",
       "      <td>0.921147</td>\n",
       "      <td>0.741738</td>\n",
       "      <td>0.907929</td>\n",
       "      <td>0.811096</td>\n",
       "      <td>0.928951</td>\n",
       "      <td>1.000000</td>\n",
       "    </tr>\n",
       "  </tbody>\n",
       "</table>\n",
       "</div>"
      ],
      "text/plain": [
       "              English  Japanese  mathematics    social   science     total\n",
       "English      1.000000  0.815000     0.745294  0.752500  0.783333  0.921147\n",
       "Japanese     0.815000  1.000000     0.478676  0.703125  0.500833  0.741738\n",
       "mathematics  0.745294  0.478676     1.000000  0.562255  0.948235  0.907929\n",
       "social       0.752500  0.703125     0.562255  1.000000  0.619444  0.811096\n",
       "science      0.783333  0.500833     0.948235  0.619444  1.000000  0.928951\n",
       "total        0.921147  0.741738     0.907929  0.811096  0.928951  1.000000"
      ]
     },
     "metadata": {},
     "output_type": "display_data"
    },
    {
     "name": "stdout",
     "output_type": "stream",
     "text": [
      "[3] -> 5%\n"
     ]
    },
    {
     "data": {
      "text/html": [
       "<div>\n",
       "<style scoped>\n",
       "    .dataframe tbody tr th:only-of-type {\n",
       "        vertical-align: middle;\n",
       "    }\n",
       "\n",
       "    .dataframe tbody tr th {\n",
       "        vertical-align: top;\n",
       "    }\n",
       "\n",
       "    .dataframe thead th {\n",
       "        text-align: right;\n",
       "    }\n",
       "</style>\n",
       "<table border=\"1\" class=\"dataframe\">\n",
       "  <thead>\n",
       "    <tr style=\"text-align: right;\">\n",
       "      <th></th>\n",
       "      <th>English</th>\n",
       "      <th>Japanese</th>\n",
       "      <th>mathematics</th>\n",
       "      <th>social</th>\n",
       "      <th>science</th>\n",
       "      <th>total</th>\n",
       "    </tr>\n",
       "  </thead>\n",
       "  <tbody>\n",
       "    <tr>\n",
       "      <th>English</th>\n",
       "      <td>True</td>\n",
       "      <td>True</td>\n",
       "      <td>True</td>\n",
       "      <td>True</td>\n",
       "      <td>True</td>\n",
       "      <td>True</td>\n",
       "    </tr>\n",
       "    <tr>\n",
       "      <th>Japanese</th>\n",
       "      <td>True</td>\n",
       "      <td>True</td>\n",
       "      <td>False</td>\n",
       "      <td>True</td>\n",
       "      <td>False</td>\n",
       "      <td>True</td>\n",
       "    </tr>\n",
       "    <tr>\n",
       "      <th>mathematics</th>\n",
       "      <td>True</td>\n",
       "      <td>False</td>\n",
       "      <td>True</td>\n",
       "      <td>False</td>\n",
       "      <td>True</td>\n",
       "      <td>True</td>\n",
       "    </tr>\n",
       "    <tr>\n",
       "      <th>social</th>\n",
       "      <td>True</td>\n",
       "      <td>True</td>\n",
       "      <td>False</td>\n",
       "      <td>True</td>\n",
       "      <td>True</td>\n",
       "      <td>True</td>\n",
       "    </tr>\n",
       "    <tr>\n",
       "      <th>science</th>\n",
       "      <td>True</td>\n",
       "      <td>False</td>\n",
       "      <td>True</td>\n",
       "      <td>True</td>\n",
       "      <td>True</td>\n",
       "      <td>True</td>\n",
       "    </tr>\n",
       "    <tr>\n",
       "      <th>total</th>\n",
       "      <td>True</td>\n",
       "      <td>True</td>\n",
       "      <td>True</td>\n",
       "      <td>True</td>\n",
       "      <td>True</td>\n",
       "      <td>True</td>\n",
       "    </tr>\n",
       "  </tbody>\n",
       "</table>\n",
       "</div>"
      ],
      "text/plain": [
       "             English  Japanese  mathematics  social  science  total\n",
       "English         True      True         True    True     True   True\n",
       "Japanese        True      True        False    True    False   True\n",
       "mathematics     True     False         True   False     True   True\n",
       "social          True      True        False    True     True   True\n",
       "science         True     False         True    True     True   True\n",
       "total           True      True         True    True     True   True"
      ]
     },
     "metadata": {},
     "output_type": "display_data"
    },
    {
     "name": "stdout",
     "output_type": "stream",
     "text": [
      "[3] -> 1%\n"
     ]
    },
    {
     "data": {
      "text/html": [
       "<div>\n",
       "<style scoped>\n",
       "    .dataframe tbody tr th:only-of-type {\n",
       "        vertical-align: middle;\n",
       "    }\n",
       "\n",
       "    .dataframe tbody tr th {\n",
       "        vertical-align: top;\n",
       "    }\n",
       "\n",
       "    .dataframe thead th {\n",
       "        text-align: right;\n",
       "    }\n",
       "</style>\n",
       "<table border=\"1\" class=\"dataframe\">\n",
       "  <thead>\n",
       "    <tr style=\"text-align: right;\">\n",
       "      <th></th>\n",
       "      <th>English</th>\n",
       "      <th>Japanese</th>\n",
       "      <th>mathematics</th>\n",
       "      <th>social</th>\n",
       "      <th>science</th>\n",
       "      <th>total</th>\n",
       "    </tr>\n",
       "  </thead>\n",
       "  <tbody>\n",
       "    <tr>\n",
       "      <th>English</th>\n",
       "      <td>True</td>\n",
       "      <td>True</td>\n",
       "      <td>True</td>\n",
       "      <td>True</td>\n",
       "      <td>True</td>\n",
       "      <td>True</td>\n",
       "    </tr>\n",
       "    <tr>\n",
       "      <th>Japanese</th>\n",
       "      <td>True</td>\n",
       "      <td>True</td>\n",
       "      <td>False</td>\n",
       "      <td>False</td>\n",
       "      <td>False</td>\n",
       "      <td>True</td>\n",
       "    </tr>\n",
       "    <tr>\n",
       "      <th>mathematics</th>\n",
       "      <td>True</td>\n",
       "      <td>False</td>\n",
       "      <td>True</td>\n",
       "      <td>False</td>\n",
       "      <td>True</td>\n",
       "      <td>True</td>\n",
       "    </tr>\n",
       "    <tr>\n",
       "      <th>social</th>\n",
       "      <td>True</td>\n",
       "      <td>False</td>\n",
       "      <td>False</td>\n",
       "      <td>True</td>\n",
       "      <td>False</td>\n",
       "      <td>True</td>\n",
       "    </tr>\n",
       "    <tr>\n",
       "      <th>science</th>\n",
       "      <td>True</td>\n",
       "      <td>False</td>\n",
       "      <td>True</td>\n",
       "      <td>False</td>\n",
       "      <td>True</td>\n",
       "      <td>True</td>\n",
       "    </tr>\n",
       "    <tr>\n",
       "      <th>total</th>\n",
       "      <td>True</td>\n",
       "      <td>True</td>\n",
       "      <td>True</td>\n",
       "      <td>True</td>\n",
       "      <td>True</td>\n",
       "      <td>True</td>\n",
       "    </tr>\n",
       "  </tbody>\n",
       "</table>\n",
       "</div>"
      ],
      "text/plain": [
       "             English  Japanese  mathematics  social  science  total\n",
       "English         True      True         True    True     True   True\n",
       "Japanese        True      True        False   False    False   True\n",
       "mathematics     True     False         True   False     True   True\n",
       "social          True     False        False    True    False   True\n",
       "science         True     False         True   False     True   True\n",
       "total           True      True         True    True     True   True"
      ]
     },
     "metadata": {},
     "output_type": "display_data"
    }
   ],
   "source": [
    "data = pd.read_csv(\"初歩からの統計-演習/12-4.csv\")[[\"English\", \"Japanese\", \"mathematics\", \"social\", \"science\"]]\n",
    "\n",
    "print(f\"[1] -> 平均:\")\n",
    "display(data.mean(axis=0))\n",
    "print(f\"[1] -> 分散:\")\n",
    "display(data.var(axis=0))\n",
    "print(f\"[1] -> 標準偏差:\")\n",
    "display(data.std(axis=0))\n",
    "\n",
    "data[\"total\"] = data.apply(lambda x: x.sum(), axis=1)\n",
    "print(f\"[2] -> \")\n",
    "display(data.corr())\n",
    "\n",
    "print(f\"[3] -> 5%\")\n",
    "data_corr_5per = data.corr()\n",
    "display(data_corr_5per > 0.602)\n",
    "\n",
    "print(f\"[3] -> 1%\")\n",
    "data_corr_1per = data.corr()\n",
    "display(data_corr_1per > 0.735)"
   ]
  },
  {
   "cell_type": "code",
   "execution_count": 73,
   "metadata": {},
   "outputs": [
    {
     "name": "stdout",
     "output_type": "stream",
     "text": [
      "[1] -> 0.8914830474620233\n",
      "[2] -> 10% True 5% True 1% True\n"
     ]
    }
   ],
   "source": [
    "#12-5 \n",
    "\n",
    "X = [6, 9, 4, 14, 3, 1, 8, 9, 2, 13, 15, 9, 5, 12, 7]\n",
    "Y = [5, 10, 2, 14, 8, 3, 6, 12, 1, 15, 13, 11, 4, 9, 6]\n",
    "\n",
    "data = np.array([X, Y]).transpose()\n",
    "data = pd.DataFrame(data=data, columns=[\"部長\", \"副部長\"])\n",
    "\n",
    "print(f\"[1] -> {data.corr('spearman')['部長'][1]}\")\n",
    "data_corr = data.corr('spearman')['部長'][1]\n",
    "print(f\"[2] -> 10% {data_corr > 0.446} 5% {data_corr > 0.521} 1% {data_corr > 0.657}\")"
   ]
  },
  {
   "cell_type": "markdown",
   "metadata": {},
   "source": [
    "### 13章"
   ]
  },
  {
   "cell_type": "code",
   "execution_count": 86,
   "metadata": {},
   "outputs": [],
   "source": [
    "def makeSimpleRegression(X, Y):\n",
    "    # y = ax + b とする\n",
    "    n = X.shape[0]\n",
    "    a = ( np.dot(X, Y) - (1/n)*X.sum()*Y.sum() ) / ( (X ** 2).sum() - (1/n) * (X.sum())**2 )\n",
    "    b = (1/n) * ( Y.sum() - a*X.sum())\n",
    "    \n",
    "    def simpleRegression(x):\n",
    "        return a*x + b\n",
    "    \n",
    "    return simpleRegression"
   ]
  },
  {
   "cell_type": "code",
   "execution_count": 90,
   "metadata": {},
   "outputs": [
    {
     "data": {
      "text/plain": [
       "16.3"
      ]
     },
     "execution_count": 90,
     "metadata": {},
     "output_type": "execute_result"
    }
   ],
   "source": [
    "mySimpleRegression = makeSimpleRegression(np.array([2, 3, 4, 4, 5, 6]), np.array([6, 8, 10, 9, 13, 14]))\n",
    "\n",
    "mySimpleRegression(7)"
   ]
  },
  {
   "cell_type": "code",
   "execution_count": null,
   "metadata": {},
   "outputs": [],
   "source": []
  },
  {
   "cell_type": "code",
   "execution_count": null,
   "metadata": {},
   "outputs": [],
   "source": []
  }
 ],
 "metadata": {
  "kernelspec": {
   "display_name": "Python 3",
   "language": "python",
   "name": "python3"
  },
  "language_info": {
   "codemirror_mode": {
    "name": "ipython",
    "version": 3
   },
   "file_extension": ".py",
   "mimetype": "text/x-python",
   "name": "python",
   "nbconvert_exporter": "python",
   "pygments_lexer": "ipython3",
   "version": "3.7.6"
  }
 },
 "nbformat": 4,
 "nbformat_minor": 2
}
